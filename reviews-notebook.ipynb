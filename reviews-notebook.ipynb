{
 "cells": [
  {
   "attachments": {},
   "cell_type": "markdown",
   "metadata": {},
   "source": [
    "# Оценка отзывов"
   ]
  },
  {
   "cell_type": "code",
   "execution_count": 49,
   "metadata": {},
   "outputs": [],
   "source": [
    "import pandas as pd\n",
    "import plotly.express as px\n",
    "import numpy as np"
   ]
  },
  {
   "cell_type": "code",
   "execution_count": 50,
   "metadata": {},
   "outputs": [],
   "source": [
    "rost_reviews = pd.read_csv(\"data/Ростикс_тональность.csv\")"
   ]
  },
  {
   "cell_type": "code",
   "execution_count": 51,
   "metadata": {},
   "outputs": [
    {
     "data": {
      "text/html": [
       "<div>\n",
       "<style scoped>\n",
       "    .dataframe tbody tr th:only-of-type {\n",
       "        vertical-align: middle;\n",
       "    }\n",
       "\n",
       "    .dataframe tbody tr th {\n",
       "        vertical-align: top;\n",
       "    }\n",
       "\n",
       "    .dataframe thead th {\n",
       "        text-align: right;\n",
       "    }\n",
       "</style>\n",
       "<table border=\"1\" class=\"dataframe\">\n",
       "  <thead>\n",
       "    <tr style=\"text-align: right;\">\n",
       "      <th></th>\n",
       "      <th>Unnamed: 0</th>\n",
       "      <th>review_url</th>\n",
       "      <th>author</th>\n",
       "      <th>review_date</th>\n",
       "      <th>text_data</th>\n",
       "      <th>neutral</th>\n",
       "      <th>negative</th>\n",
       "      <th>positive</th>\n",
       "    </tr>\n",
       "  </thead>\n",
       "  <tbody>\n",
       "    <tr>\n",
       "      <th>0</th>\n",
       "      <td>0</td>\n",
       "      <td>https://barnaul.flamp.ru/firm/kfc_restoran_bys...</td>\n",
       "      <td>\\n\\t\\tПлюшка\\n\\t</td>\n",
       "      <td>\\n\\t20 июня в 20:20\\n\\t</td>\n",
       "      <td>&lt;p class=\"t-rich-text__p\"&gt;\\n\\t\\t\\t\\t\\t\\t\\tСего...</td>\n",
       "      <td>0.222710</td>\n",
       "      <td>0.000000</td>\n",
       "      <td>0.414909</td>\n",
       "    </tr>\n",
       "    <tr>\n",
       "      <th>1</th>\n",
       "      <td>1</td>\n",
       "      <td>https://barnaul.flamp.ru/firm/kfc_restoran_bys...</td>\n",
       "      <td>\\n\\t\\tBoris Burned\\n\\t</td>\n",
       "      <td>\\n\\t9 апреля в 20:47\\n\\t\\t</td>\n",
       "      <td>&lt;p class=\"t-rich-text__p\"&gt;\\n\\t\\t\\t\\t\\t\\tВзял п...</td>\n",
       "      <td>0.307368</td>\n",
       "      <td>0.370235</td>\n",
       "      <td>0.000000</td>\n",
       "    </tr>\n",
       "    <tr>\n",
       "      <th>2</th>\n",
       "      <td>2</td>\n",
       "      <td>https://barnaul.flamp.ru/firm/kfc_restoran_bys...</td>\n",
       "      <td>\\n\\t\\thorhio_bob\\n\\t</td>\n",
       "      <td>\\n\\t10 апреля в 15:08\\n\\t\\t</td>\n",
       "      <td>&lt;p class=\"t-rich-text__p\"&gt;\\n\\t\\t\\t\\t\\t\\tнравят...</td>\n",
       "      <td>0.228166</td>\n",
       "      <td>0.177821</td>\n",
       "      <td>0.000000</td>\n",
       "    </tr>\n",
       "    <tr>\n",
       "      <th>3</th>\n",
       "      <td>3</td>\n",
       "      <td>https://barnaul.flamp.ru/firm/kfc_restoran_bys...</td>\n",
       "      <td>\\n\\t\\tПлюшка\\n\\t</td>\n",
       "      <td>\\n\\t16 февраля в 20:46\\n\\t</td>\n",
       "      <td>&lt;p class=\"t-rich-text__p\"&gt;\\n\\t\\t\\t\\t\\t\\t\\tСкол...</td>\n",
       "      <td>0.212079</td>\n",
       "      <td>0.000000</td>\n",
       "      <td>0.245095</td>\n",
       "    </tr>\n",
       "  </tbody>\n",
       "</table>\n",
       "</div>"
      ],
      "text/plain": [
       "   Unnamed: 0                                         review_url  \\\n",
       "0           0  https://barnaul.flamp.ru/firm/kfc_restoran_bys...   \n",
       "1           1  https://barnaul.flamp.ru/firm/kfc_restoran_bys...   \n",
       "2           2  https://barnaul.flamp.ru/firm/kfc_restoran_bys...   \n",
       "3           3  https://barnaul.flamp.ru/firm/kfc_restoran_bys...   \n",
       "\n",
       "                   author                  review_date  \\\n",
       "0        \\n\\t\\tПлюшка\\n\\t      \\n\\t20 июня в 20:20\\n\\t   \n",
       "1  \\n\\t\\tBoris Burned\\n\\t   \\n\\t9 апреля в 20:47\\n\\t\\t   \n",
       "2    \\n\\t\\thorhio_bob\\n\\t  \\n\\t10 апреля в 15:08\\n\\t\\t   \n",
       "3        \\n\\t\\tПлюшка\\n\\t   \\n\\t16 февраля в 20:46\\n\\t   \n",
       "\n",
       "                                           text_data   neutral  negative  \\\n",
       "0  <p class=\"t-rich-text__p\">\\n\\t\\t\\t\\t\\t\\t\\tСего...  0.222710  0.000000   \n",
       "1  <p class=\"t-rich-text__p\">\\n\\t\\t\\t\\t\\t\\tВзял п...  0.307368  0.370235   \n",
       "2  <p class=\"t-rich-text__p\">\\n\\t\\t\\t\\t\\t\\tнравят...  0.228166  0.177821   \n",
       "3  <p class=\"t-rich-text__p\">\\n\\t\\t\\t\\t\\t\\t\\tСкол...  0.212079  0.000000   \n",
       "\n",
       "   positive  \n",
       "0  0.414909  \n",
       "1  0.000000  \n",
       "2  0.000000  \n",
       "3  0.245095  "
      ]
     },
     "execution_count": 51,
     "metadata": {},
     "output_type": "execute_result"
    }
   ],
   "source": [
    "rost_reviews.head(4)"
   ]
  },
  {
   "cell_type": "code",
   "execution_count": 52,
   "metadata": {},
   "outputs": [],
   "source": [
    "sport_reviews = pd.read_csv(\"data/Спортмастер_тональность.csv\")"
   ]
  },
  {
   "cell_type": "code",
   "execution_count": 53,
   "metadata": {},
   "outputs": [
    {
     "data": {
      "text/html": [
       "<div>\n",
       "<style scoped>\n",
       "    .dataframe tbody tr th:only-of-type {\n",
       "        vertical-align: middle;\n",
       "    }\n",
       "\n",
       "    .dataframe tbody tr th {\n",
       "        vertical-align: top;\n",
       "    }\n",
       "\n",
       "    .dataframe thead th {\n",
       "        text-align: right;\n",
       "    }\n",
       "</style>\n",
       "<table border=\"1\" class=\"dataframe\">\n",
       "  <thead>\n",
       "    <tr style=\"text-align: right;\">\n",
       "      <th></th>\n",
       "      <th>Unnamed: 0</th>\n",
       "      <th>review_url</th>\n",
       "      <th>author</th>\n",
       "      <th>review_date</th>\n",
       "      <th>text_data</th>\n",
       "      <th>neutral</th>\n",
       "      <th>negative</th>\n",
       "      <th>positive</th>\n",
       "    </tr>\n",
       "  </thead>\n",
       "  <tbody>\n",
       "    <tr>\n",
       "      <th>0</th>\n",
       "      <td>0</td>\n",
       "      <td>https://chita.flamp.ru/firm/sportmaster_magazi...</td>\n",
       "      <td>\\n\\t\\tЖимолость Ореховна\\n\\t</td>\n",
       "      <td>\\n\\t\\t</td>\n",
       "      <td>&lt;p class=\"t-rich-text__p\"&gt;\\n\\t\\t\\t\\t\\t\\tБыла с...</td>\n",
       "      <td>0.334599</td>\n",
       "      <td>0.000000</td>\n",
       "      <td>0.50001</td>\n",
       "    </tr>\n",
       "    <tr>\n",
       "      <th>1</th>\n",
       "      <td>1</td>\n",
       "      <td>https://chita.flamp.ru/firm/sportmaster_magazi...</td>\n",
       "      <td>\\n\\t\\tИван Пет\\n\\t</td>\n",
       "      <td>\\n\\t22 января 2022\\n\\t</td>\n",
       "      <td>&lt;p class=\"t-rich-text__p\"&gt;\\n\\t\\t\\t\\t\\t\\tРазоча...</td>\n",
       "      <td>0.782673</td>\n",
       "      <td>0.206904</td>\n",
       "      <td>0.00000</td>\n",
       "    </tr>\n",
       "    <tr>\n",
       "      <th>2</th>\n",
       "      <td>2</td>\n",
       "      <td>https://chita.flamp.ru/firm/sportmaster_magazi...</td>\n",
       "      <td>\\n\\t\\tAlexey Volkov\\n\\t</td>\n",
       "      <td>\\n\\t11 июля 2018\\n\\t</td>\n",
       "      <td>&lt;p class=\"t-rich-text__p\"&gt;\\n\\t\\t\\t\\t\\t\\tПокупа...</td>\n",
       "      <td>0.334599</td>\n",
       "      <td>0.430157</td>\n",
       "      <td>0.00000</td>\n",
       "    </tr>\n",
       "    <tr>\n",
       "      <th>3</th>\n",
       "      <td>3</td>\n",
       "      <td>https://chita.flamp.ru/firm/sportmaster_magazi...</td>\n",
       "      <td>\\n\\t\\tdimazarazza\\n\\t</td>\n",
       "      <td>\\n\\t27 апреля 2020\\n\\t\\t</td>\n",
       "      <td>&lt;p class=\"t-rich-text__p\"&gt;\\n\\t\\t\\t\\t\\t\\tПришел...</td>\n",
       "      <td>0.724880</td>\n",
       "      <td>0.222710</td>\n",
       "      <td>0.00000</td>\n",
       "    </tr>\n",
       "  </tbody>\n",
       "</table>\n",
       "</div>"
      ],
      "text/plain": [
       "   Unnamed: 0                                         review_url  \\\n",
       "0           0  https://chita.flamp.ru/firm/sportmaster_magazi...   \n",
       "1           1  https://chita.flamp.ru/firm/sportmaster_magazi...   \n",
       "2           2  https://chita.flamp.ru/firm/sportmaster_magazi...   \n",
       "3           3  https://chita.flamp.ru/firm/sportmaster_magazi...   \n",
       "\n",
       "                         author               review_date  \\\n",
       "0  \\n\\t\\tЖимолость Ореховна\\n\\t                    \\n\\t\\t   \n",
       "1            \\n\\t\\tИван Пет\\n\\t    \\n\\t22 января 2022\\n\\t   \n",
       "2       \\n\\t\\tAlexey Volkov\\n\\t      \\n\\t11 июля 2018\\n\\t   \n",
       "3         \\n\\t\\tdimazarazza\\n\\t  \\n\\t27 апреля 2020\\n\\t\\t   \n",
       "\n",
       "                                           text_data   neutral  negative  \\\n",
       "0  <p class=\"t-rich-text__p\">\\n\\t\\t\\t\\t\\t\\tБыла с...  0.334599  0.000000   \n",
       "1  <p class=\"t-rich-text__p\">\\n\\t\\t\\t\\t\\t\\tРазоча...  0.782673  0.206904   \n",
       "2  <p class=\"t-rich-text__p\">\\n\\t\\t\\t\\t\\t\\tПокупа...  0.334599  0.430157   \n",
       "3  <p class=\"t-rich-text__p\">\\n\\t\\t\\t\\t\\t\\tПришел...  0.724880  0.222710   \n",
       "\n",
       "   positive  \n",
       "0   0.50001  \n",
       "1   0.00000  \n",
       "2   0.00000  \n",
       "3   0.00000  "
      ]
     },
     "execution_count": 53,
     "metadata": {},
     "output_type": "execute_result"
    }
   ],
   "source": [
    "sport_reviews.head(4)"
   ]
  },
  {
   "cell_type": "code",
   "execution_count": 54,
   "metadata": {},
   "outputs": [],
   "source": [
    "def fix_reviews(input_df):\n",
    "    df = input_df.copy()\n",
    "    df[\"review_date\"] = df[\"review_date\"].str.replace('\\n','')\n",
    "    df[\"review_date\"] = df[\"review_date\"].str.replace('\\t','')\n",
    "    maps = {\n",
    "        \"января\": \"01\",\n",
    "        \"февраля\": \"02\",\n",
    "        \"марта\": \"03\",\n",
    "        \"апреля\": \"05\",\n",
    "        \"июня\": \"06\",\n",
    "        \"июля\": \"07\",\n",
    "        \"августа\": \"08\",\n",
    "        \"сентября\": \"09\",\n",
    "        \"октября\": \"10\",\n",
    "        \"ноября\": \"11\",\n",
    "        \"декабря\": \"12\",\n",
    "    }\n",
    "\n",
    "    for k,v in maps.items():\n",
    "        df[\"review_date\"] = df[\"review_date\"].str.replace(k,v)\n",
    "\n",
    "    df[\"review_date\"] = df[\"review_date\"].str.replace(r'в\\s\\d*:\\d*', '2023', regex=True)\n",
    "    df[\"review_date\"] = df[\"review_date\"].str.replace(' ', '.')\n",
    "    df[\"review_date\"] = pd.to_datetime(df[\"review_date\"],errors=\"coerce\")\n",
    "    df = df[~df[\"review_date\"].isnull()]\n",
    "    return df"
   ]
  },
  {
   "cell_type": "code",
   "execution_count": 55,
   "metadata": {},
   "outputs": [
    {
     "name": "stderr",
     "output_type": "stream",
     "text": [
      "/tmp/ipykernel_15444/1925058989.py:24: UserWarning:\n",
      "\n",
      "Parsing dates in %d.%m.%Y format when dayfirst=False (the default) was specified. Pass `dayfirst=True` or specify a format to silence this warning.\n",
      "\n",
      "/tmp/ipykernel_15444/1925058989.py:24: UserWarning:\n",
      "\n",
      "Parsing dates in %d.%m.%Y format when dayfirst=False (the default) was specified. Pass `dayfirst=True` or specify a format to silence this warning.\n",
      "\n"
     ]
    }
   ],
   "source": [
    "rost_reviews = fix_reviews(rost_reviews)\n",
    "sport_reviews = fix_reviews(sport_reviews)"
   ]
  },
  {
   "cell_type": "code",
   "execution_count": 56,
   "metadata": {},
   "outputs": [
    {
     "data": {
      "text/html": [
       "<div>\n",
       "<style scoped>\n",
       "    .dataframe tbody tr th:only-of-type {\n",
       "        vertical-align: middle;\n",
       "    }\n",
       "\n",
       "    .dataframe tbody tr th {\n",
       "        vertical-align: top;\n",
       "    }\n",
       "\n",
       "    .dataframe thead th {\n",
       "        text-align: right;\n",
       "    }\n",
       "</style>\n",
       "<table border=\"1\" class=\"dataframe\">\n",
       "  <thead>\n",
       "    <tr style=\"text-align: right;\">\n",
       "      <th></th>\n",
       "      <th>Unnamed: 0</th>\n",
       "      <th>review_url</th>\n",
       "      <th>author</th>\n",
       "      <th>review_date</th>\n",
       "      <th>text_data</th>\n",
       "      <th>neutral</th>\n",
       "      <th>negative</th>\n",
       "      <th>positive</th>\n",
       "    </tr>\n",
       "  </thead>\n",
       "  <tbody>\n",
       "    <tr>\n",
       "      <th>13809</th>\n",
       "      <td>13809</td>\n",
       "      <td>https://novosibirsk.flamp.ru/firm/kfc_restoran...</td>\n",
       "      <td>\\n\\t\\tIrin4ik\\n\\t</td>\n",
       "      <td>2011-03-29</td>\n",
       "      <td>&lt;p class=\"t-rich-text__p\"&gt;\\n\\t\\t\\t\\t\\t\\tВредна...</td>\n",
       "      <td>0.000000</td>\n",
       "      <td>0.156115</td>\n",
       "      <td>0.974053</td>\n",
       "    </tr>\n",
       "    <tr>\n",
       "      <th>13816</th>\n",
       "      <td>13816</td>\n",
       "      <td>https://novosibirsk.flamp.ru/firm/kfc_restoran...</td>\n",
       "      <td>\\n\\t\\ttitova.e.s\\n\\t</td>\n",
       "      <td>2011-05-25</td>\n",
       "      <td>&lt;p class=\"t-rich-text__p\"&gt;\\n\\t\\t\\t\\t\\t\\tВот ск...</td>\n",
       "      <td>0.000000</td>\n",
       "      <td>0.712242</td>\n",
       "      <td>0.000000</td>\n",
       "    </tr>\n",
       "    <tr>\n",
       "      <th>13810</th>\n",
       "      <td>13810</td>\n",
       "      <td>https://novosibirsk.flamp.ru/firm/kfc_restoran...</td>\n",
       "      <td>\\n\\t\\tNata\\n\\t</td>\n",
       "      <td>2011-05-25</td>\n",
       "      <td>&lt;p class=\"t-rich-text__p\"&gt;\\n\\t\\t\\t\\t\\t\\tу меня...</td>\n",
       "      <td>0.724880</td>\n",
       "      <td>0.000000</td>\n",
       "      <td>0.112805</td>\n",
       "    </tr>\n",
       "    <tr>\n",
       "      <th>7557</th>\n",
       "      <td>7557</td>\n",
       "      <td>https://krasnoyarsk.flamp.ru/firm/kfc_restoran...</td>\n",
       "      <td>\\n\\t\\tovsyanka\\n\\t</td>\n",
       "      <td>2011-06-02</td>\n",
       "      <td>&lt;p class=\"t-rich-text__p\"&gt;\\n\\t\\t\\t\\t\\t\\tдоклад...</td>\n",
       "      <td>0.217348</td>\n",
       "      <td>0.000000</td>\n",
       "      <td>0.453272</td>\n",
       "    </tr>\n",
       "    <tr>\n",
       "      <th>13806</th>\n",
       "      <td>13806</td>\n",
       "      <td>https://novosibirsk.flamp.ru/firm/kfc_restoran...</td>\n",
       "      <td>\\n\\t\\tdreаm\\n\\t</td>\n",
       "      <td>2011-06-15</td>\n",
       "      <td>&lt;p class=\"t-rich-text__p\"&gt;\\n\\t\\t\\t\\t\\t\\tТакое ...</td>\n",
       "      <td>0.000000</td>\n",
       "      <td>0.523430</td>\n",
       "      <td>0.177821</td>\n",
       "    </tr>\n",
       "    <tr>\n",
       "      <th>13799</th>\n",
       "      <td>13799</td>\n",
       "      <td>https://novosibirsk.flamp.ru/firm/kfc_restoran...</td>\n",
       "      <td>\\n\\t\\tОлеся Шамова\\n\\t</td>\n",
       "      <td>2011-06-25</td>\n",
       "      <td>&lt;p class=\"t-rich-text__p\"&gt;\\n\\t\\t\\t\\t\\t\\t\\tВ Ро...</td>\n",
       "      <td>0.000000</td>\n",
       "      <td>0.314061</td>\n",
       "      <td>0.000000</td>\n",
       "    </tr>\n",
       "    <tr>\n",
       "      <th>13797</th>\n",
       "      <td>13797</td>\n",
       "      <td>https://novosibirsk.flamp.ru/firm/kfc_restoran...</td>\n",
       "      <td>\\n\\t\\tCaso\\n\\t</td>\n",
       "      <td>2011-07-14</td>\n",
       "      <td>&lt;p class=\"t-rich-text__p\"&gt;\\n\\t\\t\\t\\t\\t\\t\\tИног...</td>\n",
       "      <td>0.300756</td>\n",
       "      <td>0.000000</td>\n",
       "      <td>0.182436</td>\n",
       "    </tr>\n",
       "    <tr>\n",
       "      <th>13801</th>\n",
       "      <td>13801</td>\n",
       "      <td>https://novosibirsk.flamp.ru/firm/kfc_restoran...</td>\n",
       "      <td>\\n\\t\\tserg-al-tol\\n\\t</td>\n",
       "      <td>2011-07-25</td>\n",
       "      <td>&lt;p class=\"t-rich-text__p\"&gt;\\n\\t\\t\\t\\t\\t\\tРостик...</td>\n",
       "      <td>0.000000</td>\n",
       "      <td>0.000000</td>\n",
       "      <td>0.262852</td>\n",
       "    </tr>\n",
       "    <tr>\n",
       "      <th>13795</th>\n",
       "      <td>13795</td>\n",
       "      <td>https://novosibirsk.flamp.ru/firm/kfc_restoran...</td>\n",
       "      <td>\\n\\t\\tВероника\\n\\t</td>\n",
       "      <td>2011-08-03</td>\n",
       "      <td>&lt;p class=\"t-rich-text__p\"&gt;\\n\\t\\t\\t\\t\\t\\t\\tРеши...</td>\n",
       "      <td>0.523430</td>\n",
       "      <td>0.275140</td>\n",
       "      <td>0.000000</td>\n",
       "    </tr>\n",
       "    <tr>\n",
       "      <th>7561</th>\n",
       "      <td>7561</td>\n",
       "      <td>https://krasnoyarsk.flamp.ru/firm/kfc_restoran...</td>\n",
       "      <td>\\n\\t\\tSangria\\n\\t</td>\n",
       "      <td>2011-08-04</td>\n",
       "      <td>&lt;p class=\"t-rich-text__p\"&gt;\\n\\t\\t\\t\\t\\t\\tТвисте...</td>\n",
       "      <td>0.000000</td>\n",
       "      <td>0.000000</td>\n",
       "      <td>0.362979</td>\n",
       "    </tr>\n",
       "  </tbody>\n",
       "</table>\n",
       "</div>"
      ],
      "text/plain": [
       "       Unnamed: 0                                         review_url  \\\n",
       "13809       13809  https://novosibirsk.flamp.ru/firm/kfc_restoran...   \n",
       "13816       13816  https://novosibirsk.flamp.ru/firm/kfc_restoran...   \n",
       "13810       13810  https://novosibirsk.flamp.ru/firm/kfc_restoran...   \n",
       "7557         7557  https://krasnoyarsk.flamp.ru/firm/kfc_restoran...   \n",
       "13806       13806  https://novosibirsk.flamp.ru/firm/kfc_restoran...   \n",
       "13799       13799  https://novosibirsk.flamp.ru/firm/kfc_restoran...   \n",
       "13797       13797  https://novosibirsk.flamp.ru/firm/kfc_restoran...   \n",
       "13801       13801  https://novosibirsk.flamp.ru/firm/kfc_restoran...   \n",
       "13795       13795  https://novosibirsk.flamp.ru/firm/kfc_restoran...   \n",
       "7561         7561  https://krasnoyarsk.flamp.ru/firm/kfc_restoran...   \n",
       "\n",
       "                       author review_date  \\\n",
       "13809       \\n\\t\\tIrin4ik\\n\\t  2011-03-29   \n",
       "13816    \\n\\t\\ttitova.e.s\\n\\t  2011-05-25   \n",
       "13810          \\n\\t\\tNata\\n\\t  2011-05-25   \n",
       "7557       \\n\\t\\tovsyanka\\n\\t  2011-06-02   \n",
       "13806         \\n\\t\\tdreаm\\n\\t  2011-06-15   \n",
       "13799  \\n\\t\\tОлеся Шамова\\n\\t  2011-06-25   \n",
       "13797          \\n\\t\\tCaso\\n\\t  2011-07-14   \n",
       "13801   \\n\\t\\tserg-al-tol\\n\\t  2011-07-25   \n",
       "13795      \\n\\t\\tВероника\\n\\t  2011-08-03   \n",
       "7561        \\n\\t\\tSangria\\n\\t  2011-08-04   \n",
       "\n",
       "                                               text_data   neutral  negative  \\\n",
       "13809  <p class=\"t-rich-text__p\">\\n\\t\\t\\t\\t\\t\\tВредна...  0.000000  0.156115   \n",
       "13816  <p class=\"t-rich-text__p\">\\n\\t\\t\\t\\t\\t\\tВот ск...  0.000000  0.712242   \n",
       "13810  <p class=\"t-rich-text__p\">\\n\\t\\t\\t\\t\\t\\tу меня...  0.724880  0.000000   \n",
       "7557   <p class=\"t-rich-text__p\">\\n\\t\\t\\t\\t\\t\\tдоклад...  0.217348  0.000000   \n",
       "13806  <p class=\"t-rich-text__p\">\\n\\t\\t\\t\\t\\t\\tТакое ...  0.000000  0.523430   \n",
       "13799  <p class=\"t-rich-text__p\">\\n\\t\\t\\t\\t\\t\\t\\tВ Ро...  0.000000  0.314061   \n",
       "13797  <p class=\"t-rich-text__p\">\\n\\t\\t\\t\\t\\t\\t\\tИног...  0.300756  0.000000   \n",
       "13801  <p class=\"t-rich-text__p\">\\n\\t\\t\\t\\t\\t\\tРостик...  0.000000  0.000000   \n",
       "13795  <p class=\"t-rich-text__p\">\\n\\t\\t\\t\\t\\t\\t\\tРеши...  0.523430  0.275140   \n",
       "7561   <p class=\"t-rich-text__p\">\\n\\t\\t\\t\\t\\t\\tТвисте...  0.000000  0.000000   \n",
       "\n",
       "       positive  \n",
       "13809  0.974053  \n",
       "13816  0.000000  \n",
       "13810  0.112805  \n",
       "7557   0.453272  \n",
       "13806  0.177821  \n",
       "13799  0.000000  \n",
       "13797  0.182436  \n",
       "13801  0.262852  \n",
       "13795  0.000000  \n",
       "7561   0.362979  "
      ]
     },
     "execution_count": 56,
     "metadata": {},
     "output_type": "execute_result"
    }
   ],
   "source": [
    "rost_reviews = rost_reviews.sort_values([\"review_date\"])\n",
    "rost_reviews.head(10)\n"
   ]
  },
  {
   "cell_type": "code",
   "execution_count": 57,
   "metadata": {},
   "outputs": [
    {
     "data": {
      "text/html": [
       "<div>\n",
       "<style scoped>\n",
       "    .dataframe tbody tr th:only-of-type {\n",
       "        vertical-align: middle;\n",
       "    }\n",
       "\n",
       "    .dataframe tbody tr th {\n",
       "        vertical-align: top;\n",
       "    }\n",
       "\n",
       "    .dataframe thead th {\n",
       "        text-align: right;\n",
       "    }\n",
       "</style>\n",
       "<table border=\"1\" class=\"dataframe\">\n",
       "  <thead>\n",
       "    <tr style=\"text-align: right;\">\n",
       "      <th></th>\n",
       "      <th>Unnamed: 0</th>\n",
       "      <th>review_url</th>\n",
       "      <th>author</th>\n",
       "      <th>review_date</th>\n",
       "      <th>text_data</th>\n",
       "      <th>neutral</th>\n",
       "      <th>negative</th>\n",
       "      <th>positive</th>\n",
       "    </tr>\n",
       "  </thead>\n",
       "  <tbody>\n",
       "    <tr>\n",
       "      <th>14</th>\n",
       "      <td>14</td>\n",
       "      <td>https://chita.flamp.ru/firm/sportmaster_magazi...</td>\n",
       "      <td>\\n\\t\\tBardak\\n\\t</td>\n",
       "      <td>2013-08-01</td>\n",
       "      <td>&lt;p class=\"t-rich-text__p\"&gt;\\n\\t\\t\\t\\t\\t\\tПонрав...</td>\n",
       "      <td>0.314061</td>\n",
       "      <td>0.000000</td>\n",
       "      <td>0.484390</td>\n",
       "    </tr>\n",
       "    <tr>\n",
       "      <th>16</th>\n",
       "      <td>16</td>\n",
       "      <td>https://chita.flamp.ru/firm/sportmaster_magazi...</td>\n",
       "      <td>\\n\\t\\tdimazarazza\\n\\t</td>\n",
       "      <td>2013-08-08</td>\n",
       "      <td>&lt;p class=\"t-rich-text__p\"&gt;\\n\\t\\t\\t\\t\\t\\t\\tАссо...</td>\n",
       "      <td>0.766304</td>\n",
       "      <td>0.182436</td>\n",
       "      <td>0.000000</td>\n",
       "    </tr>\n",
       "    <tr>\n",
       "      <th>12</th>\n",
       "      <td>12</td>\n",
       "      <td>https://chita.flamp.ru/firm/sportmaster_magazi...</td>\n",
       "      <td>\\n\\t\\tklanna\\n\\t</td>\n",
       "      <td>2014-10-15</td>\n",
       "      <td>&lt;p class=\"t-rich-text__p\"&gt;\\n\\t\\t\\t\\t\\t\\t\\tБыли...</td>\n",
       "      <td>0.476590</td>\n",
       "      <td>0.222710</td>\n",
       "      <td>0.000000</td>\n",
       "    </tr>\n",
       "    <tr>\n",
       "      <th>10</th>\n",
       "      <td>10</td>\n",
       "      <td>https://chita.flamp.ru/firm/sportmaster_magazi...</td>\n",
       "      <td>\\n\\t\\tOzborshik\\n\\t</td>\n",
       "      <td>2015-06-12</td>\n",
       "      <td>&lt;p class=\"t-rich-text__p\"&gt;\\n\\t\\t\\t\\t\\t\\t\\tСраз...</td>\n",
       "      <td>0.392347</td>\n",
       "      <td>0.000000</td>\n",
       "      <td>0.256842</td>\n",
       "    </tr>\n",
       "    <tr>\n",
       "      <th>13</th>\n",
       "      <td>13</td>\n",
       "      <td>https://chita.flamp.ru/firm/sportmaster_magazi...</td>\n",
       "      <td>\\n\\t\\tferbi.ferbi2015\\n\\t</td>\n",
       "      <td>2015-11-14</td>\n",
       "      <td>&lt;p class=\"t-rich-text__p\"&gt;\\n\\t\\t\\t\\t\\t\\t\\tОбсл...</td>\n",
       "      <td>0.492198</td>\n",
       "      <td>0.262852</td>\n",
       "      <td>0.000000</td>\n",
       "    </tr>\n",
       "    <tr>\n",
       "      <th>7</th>\n",
       "      <td>7</td>\n",
       "      <td>https://chita.flamp.ru/firm/sportmaster_magazi...</td>\n",
       "      <td>\\n\\t\\tМихалыч\\n\\t</td>\n",
       "      <td>2017-06-16</td>\n",
       "      <td>&lt;p class=\"t-rich-text__p\"&gt;\\n\\t\\t\\t\\t\\t\\t\\tУжас...</td>\n",
       "      <td>0.461027</td>\n",
       "      <td>0.320831</td>\n",
       "      <td>0.000000</td>\n",
       "    </tr>\n",
       "    <tr>\n",
       "      <th>11</th>\n",
       "      <td>11</td>\n",
       "      <td>https://chita.flamp.ru/firm/sportmaster_magazi...</td>\n",
       "      <td>\\n\\t\\tNatalya Zimina\\n\\t</td>\n",
       "      <td>2017-10-31</td>\n",
       "      <td>&lt;p class=\"t-rich-text__p\"&gt;\\n\\t\\t\\t\\t\\t\\tОбслуж...</td>\n",
       "      <td>0.515630</td>\n",
       "      <td>0.334599</td>\n",
       "      <td>0.000000</td>\n",
       "    </tr>\n",
       "    <tr>\n",
       "      <th>2</th>\n",
       "      <td>2</td>\n",
       "      <td>https://chita.flamp.ru/firm/sportmaster_magazi...</td>\n",
       "      <td>\\n\\t\\tAlexey Volkov\\n\\t</td>\n",
       "      <td>2018-07-11</td>\n",
       "      <td>&lt;p class=\"t-rich-text__p\"&gt;\\n\\t\\t\\t\\t\\t\\tПокупа...</td>\n",
       "      <td>0.334599</td>\n",
       "      <td>0.430157</td>\n",
       "      <td>0.000000</td>\n",
       "    </tr>\n",
       "    <tr>\n",
       "      <th>3</th>\n",
       "      <td>3</td>\n",
       "      <td>https://chita.flamp.ru/firm/sportmaster_magazi...</td>\n",
       "      <td>\\n\\t\\tdimazarazza\\n\\t</td>\n",
       "      <td>2020-05-27</td>\n",
       "      <td>&lt;p class=\"t-rich-text__p\"&gt;\\n\\t\\t\\t\\t\\t\\tПришел...</td>\n",
       "      <td>0.724880</td>\n",
       "      <td>0.222710</td>\n",
       "      <td>0.000000</td>\n",
       "    </tr>\n",
       "    <tr>\n",
       "      <th>4</th>\n",
       "      <td>4</td>\n",
       "      <td>https://chita.flamp.ru/firm/sportmaster_magazi...</td>\n",
       "      <td>\\n\\t\\tАльбина Андреевна\\n\\t</td>\n",
       "      <td>2022-01-06</td>\n",
       "      <td>&lt;p class=\"t-rich-text__p\"&gt;\\n\\t\\t\\t\\t\\t\\tПочему...</td>\n",
       "      <td>0.859674</td>\n",
       "      <td>0.222710</td>\n",
       "      <td>0.000000</td>\n",
       "    </tr>\n",
       "  </tbody>\n",
       "</table>\n",
       "</div>"
      ],
      "text/plain": [
       "    Unnamed: 0                                         review_url  \\\n",
       "14          14  https://chita.flamp.ru/firm/sportmaster_magazi...   \n",
       "16          16  https://chita.flamp.ru/firm/sportmaster_magazi...   \n",
       "12          12  https://chita.flamp.ru/firm/sportmaster_magazi...   \n",
       "10          10  https://chita.flamp.ru/firm/sportmaster_magazi...   \n",
       "13          13  https://chita.flamp.ru/firm/sportmaster_magazi...   \n",
       "7            7  https://chita.flamp.ru/firm/sportmaster_magazi...   \n",
       "11          11  https://chita.flamp.ru/firm/sportmaster_magazi...   \n",
       "2            2  https://chita.flamp.ru/firm/sportmaster_magazi...   \n",
       "3            3  https://chita.flamp.ru/firm/sportmaster_magazi...   \n",
       "4            4  https://chita.flamp.ru/firm/sportmaster_magazi...   \n",
       "\n",
       "                         author review_date  \\\n",
       "14             \\n\\t\\tBardak\\n\\t  2013-08-01   \n",
       "16        \\n\\t\\tdimazarazza\\n\\t  2013-08-08   \n",
       "12             \\n\\t\\tklanna\\n\\t  2014-10-15   \n",
       "10          \\n\\t\\tOzborshik\\n\\t  2015-06-12   \n",
       "13    \\n\\t\\tferbi.ferbi2015\\n\\t  2015-11-14   \n",
       "7             \\n\\t\\tМихалыч\\n\\t  2017-06-16   \n",
       "11     \\n\\t\\tNatalya Zimina\\n\\t  2017-10-31   \n",
       "2       \\n\\t\\tAlexey Volkov\\n\\t  2018-07-11   \n",
       "3         \\n\\t\\tdimazarazza\\n\\t  2020-05-27   \n",
       "4   \\n\\t\\tАльбина Андреевна\\n\\t  2022-01-06   \n",
       "\n",
       "                                            text_data   neutral  negative  \\\n",
       "14  <p class=\"t-rich-text__p\">\\n\\t\\t\\t\\t\\t\\tПонрав...  0.314061  0.000000   \n",
       "16  <p class=\"t-rich-text__p\">\\n\\t\\t\\t\\t\\t\\t\\tАссо...  0.766304  0.182436   \n",
       "12  <p class=\"t-rich-text__p\">\\n\\t\\t\\t\\t\\t\\t\\tБыли...  0.476590  0.222710   \n",
       "10  <p class=\"t-rich-text__p\">\\n\\t\\t\\t\\t\\t\\t\\tСраз...  0.392347  0.000000   \n",
       "13  <p class=\"t-rich-text__p\">\\n\\t\\t\\t\\t\\t\\t\\tОбсл...  0.492198  0.262852   \n",
       "7   <p class=\"t-rich-text__p\">\\n\\t\\t\\t\\t\\t\\t\\tУжас...  0.461027  0.320831   \n",
       "11  <p class=\"t-rich-text__p\">\\n\\t\\t\\t\\t\\t\\tОбслуж...  0.515630  0.334599   \n",
       "2   <p class=\"t-rich-text__p\">\\n\\t\\t\\t\\t\\t\\tПокупа...  0.334599  0.430157   \n",
       "3   <p class=\"t-rich-text__p\">\\n\\t\\t\\t\\t\\t\\tПришел...  0.724880  0.222710   \n",
       "4   <p class=\"t-rich-text__p\">\\n\\t\\t\\t\\t\\t\\tПочему...  0.859674  0.222710   \n",
       "\n",
       "    positive  \n",
       "14  0.484390  \n",
       "16  0.000000  \n",
       "12  0.000000  \n",
       "10  0.256842  \n",
       "13  0.000000  \n",
       "7   0.000000  \n",
       "11  0.000000  \n",
       "2   0.000000  \n",
       "3   0.000000  \n",
       "4   0.000000  "
      ]
     },
     "execution_count": 57,
     "metadata": {},
     "output_type": "execute_result"
    }
   ],
   "source": [
    "sport_reviews = sport_reviews.sort_values([\"review_date\"])\n",
    "sport_reviews.head(10)"
   ]
  },
  {
   "cell_type": "code",
   "execution_count": 58,
   "metadata": {},
   "outputs": [],
   "source": [
    "df = rost_reviews[rost_reviews[\"review_date\"].dt.year >= 2023].copy()\n",
    "df[\"month\"] = df[\"review_date\"].dt.month\n",
    "df_group = df.groupby([\"month\"]).agg(\n",
    "    {\"positive\": \"mean\", \"negative\": \"mean\", \"neutral\": \"mean\",\"review_date\": \"first\"}).reset_index()\n"
   ]
  },
  {
   "cell_type": "code",
   "execution_count": 59,
   "metadata": {},
   "outputs": [
    {
     "data": {
      "application/vnd.plotly.v1+json": {
       "config": {
        "plotlyServerURL": "https://plot.ly",
        "staticPlot": true
       },
       "data": [
        {
         "line": {
          "shape": "spline"
         },
         "name": "Позитивная тональность",
         "type": "scatter",
         "x": [
          "2023-01-02T00:00:00",
          "2023-02-01T00:00:00",
          "2023-03-01T00:00:00",
          "2023-05-03T00:00:00",
          "2023-06-03T00:00:00",
          "2023-07-01T00:00:00"
         ],
         "y": [
          0.19135646181447166,
          0.3306478373706341,
          0.2993683052062988,
          0.17132527923042123,
          0.20738620884143388,
          0.2612009578280979
         ]
        },
        {
         "line": {
          "shape": "spline"
         },
         "name": "Негативная тональность",
         "type": "scatter",
         "x": [
          "2023-01-02T00:00:00",
          "2023-02-01T00:00:00",
          "2023-03-01T00:00:00",
          "2023-05-03T00:00:00",
          "2023-06-03T00:00:00",
          "2023-07-01T00:00:00"
         ],
         "y": [
          0.19799884387425012,
          0.08887094889695828,
          0.15482770562171935,
          0.18241613011129879,
          0.17981460564232504,
          0.158491726550791
         ]
        },
        {
         "line": {
          "shape": "spline"
         },
         "name": "Нейтральная тональность",
         "type": "scatter",
         "x": [
          "2023-01-02T00:00:00",
          "2023-02-01T00:00:00",
          "2023-03-01T00:00:00",
          "2023-05-03T00:00:00",
          "2023-06-03T00:00:00",
          "2023-07-01T00:00:00"
         ],
         "y": [
          0.43246536638055527,
          0.2974996661337522,
          0.30346236169338225,
          0.3918143944306807,
          0.286024626201162,
          0.3451986180411445
         ]
        }
       ],
       "layout": {
        "template": {
         "data": {
          "bar": [
           {
            "error_x": {
             "color": "#2a3f5f"
            },
            "error_y": {
             "color": "#2a3f5f"
            },
            "marker": {
             "line": {
              "color": "#E5ECF6",
              "width": 0.5
             },
             "pattern": {
              "fillmode": "overlay",
              "size": 10,
              "solidity": 0.2
             }
            },
            "type": "bar"
           }
          ],
          "barpolar": [
           {
            "marker": {
             "line": {
              "color": "#E5ECF6",
              "width": 0.5
             },
             "pattern": {
              "fillmode": "overlay",
              "size": 10,
              "solidity": 0.2
             }
            },
            "type": "barpolar"
           }
          ],
          "carpet": [
           {
            "aaxis": {
             "endlinecolor": "#2a3f5f",
             "gridcolor": "white",
             "linecolor": "white",
             "minorgridcolor": "white",
             "startlinecolor": "#2a3f5f"
            },
            "baxis": {
             "endlinecolor": "#2a3f5f",
             "gridcolor": "white",
             "linecolor": "white",
             "minorgridcolor": "white",
             "startlinecolor": "#2a3f5f"
            },
            "type": "carpet"
           }
          ],
          "choropleth": [
           {
            "colorbar": {
             "outlinewidth": 0,
             "ticks": ""
            },
            "type": "choropleth"
           }
          ],
          "contour": [
           {
            "colorbar": {
             "outlinewidth": 0,
             "ticks": ""
            },
            "colorscale": [
             [
              0,
              "#0d0887"
             ],
             [
              0.1111111111111111,
              "#46039f"
             ],
             [
              0.2222222222222222,
              "#7201a8"
             ],
             [
              0.3333333333333333,
              "#9c179e"
             ],
             [
              0.4444444444444444,
              "#bd3786"
             ],
             [
              0.5555555555555556,
              "#d8576b"
             ],
             [
              0.6666666666666666,
              "#ed7953"
             ],
             [
              0.7777777777777778,
              "#fb9f3a"
             ],
             [
              0.8888888888888888,
              "#fdca26"
             ],
             [
              1,
              "#f0f921"
             ]
            ],
            "type": "contour"
           }
          ],
          "contourcarpet": [
           {
            "colorbar": {
             "outlinewidth": 0,
             "ticks": ""
            },
            "type": "contourcarpet"
           }
          ],
          "heatmap": [
           {
            "colorbar": {
             "outlinewidth": 0,
             "ticks": ""
            },
            "colorscale": [
             [
              0,
              "#0d0887"
             ],
             [
              0.1111111111111111,
              "#46039f"
             ],
             [
              0.2222222222222222,
              "#7201a8"
             ],
             [
              0.3333333333333333,
              "#9c179e"
             ],
             [
              0.4444444444444444,
              "#bd3786"
             ],
             [
              0.5555555555555556,
              "#d8576b"
             ],
             [
              0.6666666666666666,
              "#ed7953"
             ],
             [
              0.7777777777777778,
              "#fb9f3a"
             ],
             [
              0.8888888888888888,
              "#fdca26"
             ],
             [
              1,
              "#f0f921"
             ]
            ],
            "type": "heatmap"
           }
          ],
          "heatmapgl": [
           {
            "colorbar": {
             "outlinewidth": 0,
             "ticks": ""
            },
            "colorscale": [
             [
              0,
              "#0d0887"
             ],
             [
              0.1111111111111111,
              "#46039f"
             ],
             [
              0.2222222222222222,
              "#7201a8"
             ],
             [
              0.3333333333333333,
              "#9c179e"
             ],
             [
              0.4444444444444444,
              "#bd3786"
             ],
             [
              0.5555555555555556,
              "#d8576b"
             ],
             [
              0.6666666666666666,
              "#ed7953"
             ],
             [
              0.7777777777777778,
              "#fb9f3a"
             ],
             [
              0.8888888888888888,
              "#fdca26"
             ],
             [
              1,
              "#f0f921"
             ]
            ],
            "type": "heatmapgl"
           }
          ],
          "histogram": [
           {
            "marker": {
             "pattern": {
              "fillmode": "overlay",
              "size": 10,
              "solidity": 0.2
             }
            },
            "type": "histogram"
           }
          ],
          "histogram2d": [
           {
            "colorbar": {
             "outlinewidth": 0,
             "ticks": ""
            },
            "colorscale": [
             [
              0,
              "#0d0887"
             ],
             [
              0.1111111111111111,
              "#46039f"
             ],
             [
              0.2222222222222222,
              "#7201a8"
             ],
             [
              0.3333333333333333,
              "#9c179e"
             ],
             [
              0.4444444444444444,
              "#bd3786"
             ],
             [
              0.5555555555555556,
              "#d8576b"
             ],
             [
              0.6666666666666666,
              "#ed7953"
             ],
             [
              0.7777777777777778,
              "#fb9f3a"
             ],
             [
              0.8888888888888888,
              "#fdca26"
             ],
             [
              1,
              "#f0f921"
             ]
            ],
            "type": "histogram2d"
           }
          ],
          "histogram2dcontour": [
           {
            "colorbar": {
             "outlinewidth": 0,
             "ticks": ""
            },
            "colorscale": [
             [
              0,
              "#0d0887"
             ],
             [
              0.1111111111111111,
              "#46039f"
             ],
             [
              0.2222222222222222,
              "#7201a8"
             ],
             [
              0.3333333333333333,
              "#9c179e"
             ],
             [
              0.4444444444444444,
              "#bd3786"
             ],
             [
              0.5555555555555556,
              "#d8576b"
             ],
             [
              0.6666666666666666,
              "#ed7953"
             ],
             [
              0.7777777777777778,
              "#fb9f3a"
             ],
             [
              0.8888888888888888,
              "#fdca26"
             ],
             [
              1,
              "#f0f921"
             ]
            ],
            "type": "histogram2dcontour"
           }
          ],
          "mesh3d": [
           {
            "colorbar": {
             "outlinewidth": 0,
             "ticks": ""
            },
            "type": "mesh3d"
           }
          ],
          "parcoords": [
           {
            "line": {
             "colorbar": {
              "outlinewidth": 0,
              "ticks": ""
             }
            },
            "type": "parcoords"
           }
          ],
          "pie": [
           {
            "automargin": true,
            "type": "pie"
           }
          ],
          "scatter": [
           {
            "fillpattern": {
             "fillmode": "overlay",
             "size": 10,
             "solidity": 0.2
            },
            "type": "scatter"
           }
          ],
          "scatter3d": [
           {
            "line": {
             "colorbar": {
              "outlinewidth": 0,
              "ticks": ""
             }
            },
            "marker": {
             "colorbar": {
              "outlinewidth": 0,
              "ticks": ""
             }
            },
            "type": "scatter3d"
           }
          ],
          "scattercarpet": [
           {
            "marker": {
             "colorbar": {
              "outlinewidth": 0,
              "ticks": ""
             }
            },
            "type": "scattercarpet"
           }
          ],
          "scattergeo": [
           {
            "marker": {
             "colorbar": {
              "outlinewidth": 0,
              "ticks": ""
             }
            },
            "type": "scattergeo"
           }
          ],
          "scattergl": [
           {
            "marker": {
             "colorbar": {
              "outlinewidth": 0,
              "ticks": ""
             }
            },
            "type": "scattergl"
           }
          ],
          "scattermapbox": [
           {
            "marker": {
             "colorbar": {
              "outlinewidth": 0,
              "ticks": ""
             }
            },
            "type": "scattermapbox"
           }
          ],
          "scatterpolar": [
           {
            "marker": {
             "colorbar": {
              "outlinewidth": 0,
              "ticks": ""
             }
            },
            "type": "scatterpolar"
           }
          ],
          "scatterpolargl": [
           {
            "marker": {
             "colorbar": {
              "outlinewidth": 0,
              "ticks": ""
             }
            },
            "type": "scatterpolargl"
           }
          ],
          "scatterternary": [
           {
            "marker": {
             "colorbar": {
              "outlinewidth": 0,
              "ticks": ""
             }
            },
            "type": "scatterternary"
           }
          ],
          "surface": [
           {
            "colorbar": {
             "outlinewidth": 0,
             "ticks": ""
            },
            "colorscale": [
             [
              0,
              "#0d0887"
             ],
             [
              0.1111111111111111,
              "#46039f"
             ],
             [
              0.2222222222222222,
              "#7201a8"
             ],
             [
              0.3333333333333333,
              "#9c179e"
             ],
             [
              0.4444444444444444,
              "#bd3786"
             ],
             [
              0.5555555555555556,
              "#d8576b"
             ],
             [
              0.6666666666666666,
              "#ed7953"
             ],
             [
              0.7777777777777778,
              "#fb9f3a"
             ],
             [
              0.8888888888888888,
              "#fdca26"
             ],
             [
              1,
              "#f0f921"
             ]
            ],
            "type": "surface"
           }
          ],
          "table": [
           {
            "cells": {
             "fill": {
              "color": "#EBF0F8"
             },
             "line": {
              "color": "white"
             }
            },
            "header": {
             "fill": {
              "color": "#C8D4E3"
             },
             "line": {
              "color": "white"
             }
            },
            "type": "table"
           }
          ]
         },
         "layout": {
          "annotationdefaults": {
           "arrowcolor": "#2a3f5f",
           "arrowhead": 0,
           "arrowwidth": 1
          },
          "autotypenumbers": "strict",
          "coloraxis": {
           "colorbar": {
            "outlinewidth": 0,
            "ticks": ""
           }
          },
          "colorscale": {
           "diverging": [
            [
             0,
             "#8e0152"
            ],
            [
             0.1,
             "#c51b7d"
            ],
            [
             0.2,
             "#de77ae"
            ],
            [
             0.3,
             "#f1b6da"
            ],
            [
             0.4,
             "#fde0ef"
            ],
            [
             0.5,
             "#f7f7f7"
            ],
            [
             0.6,
             "#e6f5d0"
            ],
            [
             0.7,
             "#b8e186"
            ],
            [
             0.8,
             "#7fbc41"
            ],
            [
             0.9,
             "#4d9221"
            ],
            [
             1,
             "#276419"
            ]
           ],
           "sequential": [
            [
             0,
             "#0d0887"
            ],
            [
             0.1111111111111111,
             "#46039f"
            ],
            [
             0.2222222222222222,
             "#7201a8"
            ],
            [
             0.3333333333333333,
             "#9c179e"
            ],
            [
             0.4444444444444444,
             "#bd3786"
            ],
            [
             0.5555555555555556,
             "#d8576b"
            ],
            [
             0.6666666666666666,
             "#ed7953"
            ],
            [
             0.7777777777777778,
             "#fb9f3a"
            ],
            [
             0.8888888888888888,
             "#fdca26"
            ],
            [
             1,
             "#f0f921"
            ]
           ],
           "sequentialminus": [
            [
             0,
             "#0d0887"
            ],
            [
             0.1111111111111111,
             "#46039f"
            ],
            [
             0.2222222222222222,
             "#7201a8"
            ],
            [
             0.3333333333333333,
             "#9c179e"
            ],
            [
             0.4444444444444444,
             "#bd3786"
            ],
            [
             0.5555555555555556,
             "#d8576b"
            ],
            [
             0.6666666666666666,
             "#ed7953"
            ],
            [
             0.7777777777777778,
             "#fb9f3a"
            ],
            [
             0.8888888888888888,
             "#fdca26"
            ],
            [
             1,
             "#f0f921"
            ]
           ]
          },
          "colorway": [
           "#636efa",
           "#EF553B",
           "#00cc96",
           "#ab63fa",
           "#FFA15A",
           "#19d3f3",
           "#FF6692",
           "#B6E880",
           "#FF97FF",
           "#FECB52"
          ],
          "font": {
           "color": "#2a3f5f"
          },
          "geo": {
           "bgcolor": "white",
           "lakecolor": "white",
           "landcolor": "#E5ECF6",
           "showlakes": true,
           "showland": true,
           "subunitcolor": "white"
          },
          "hoverlabel": {
           "align": "left"
          },
          "hovermode": "closest",
          "mapbox": {
           "style": "light"
          },
          "paper_bgcolor": "white",
          "plot_bgcolor": "#E5ECF6",
          "polar": {
           "angularaxis": {
            "gridcolor": "white",
            "linecolor": "white",
            "ticks": ""
           },
           "bgcolor": "#E5ECF6",
           "radialaxis": {
            "gridcolor": "white",
            "linecolor": "white",
            "ticks": ""
           }
          },
          "scene": {
           "xaxis": {
            "backgroundcolor": "#E5ECF6",
            "gridcolor": "white",
            "gridwidth": 2,
            "linecolor": "white",
            "showbackground": true,
            "ticks": "",
            "zerolinecolor": "white"
           },
           "yaxis": {
            "backgroundcolor": "#E5ECF6",
            "gridcolor": "white",
            "gridwidth": 2,
            "linecolor": "white",
            "showbackground": true,
            "ticks": "",
            "zerolinecolor": "white"
           },
           "zaxis": {
            "backgroundcolor": "#E5ECF6",
            "gridcolor": "white",
            "gridwidth": 2,
            "linecolor": "white",
            "showbackground": true,
            "ticks": "",
            "zerolinecolor": "white"
           }
          },
          "shapedefaults": {
           "line": {
            "color": "#2a3f5f"
           }
          },
          "ternary": {
           "aaxis": {
            "gridcolor": "white",
            "linecolor": "white",
            "ticks": ""
           },
           "baxis": {
            "gridcolor": "white",
            "linecolor": "white",
            "ticks": ""
           },
           "bgcolor": "#E5ECF6",
           "caxis": {
            "gridcolor": "white",
            "linecolor": "white",
            "ticks": ""
           }
          },
          "title": {
           "x": 0.05
          },
          "xaxis": {
           "automargin": true,
           "gridcolor": "white",
           "linecolor": "white",
           "ticks": "",
           "title": {
            "standoff": 15
           },
           "zerolinecolor": "white",
           "zerolinewidth": 2
          },
          "yaxis": {
           "automargin": true,
           "gridcolor": "white",
           "linecolor": "white",
           "ticks": "",
           "title": {
            "standoff": 15
           },
           "zerolinecolor": "white",
           "zerolinewidth": 2
          }
         }
        },
        "title": {
         "text": "График зависимости тональных оценок от месяца \"Ростикс\""
        },
        "xaxis": {
         "dtick": "M1",
         "linecolor": "rgb(204, 204, 204)",
         "linewidth": 2,
         "showticklabels": true,
         "tickfont": {
          "color": "rgb(82, 82, 82)",
          "family": "Times New Roman",
          "size": 12
         },
         "ticklabelmode": "period",
         "tickmode": "linear",
         "ticks": "outside",
         "title": {
          "text": "Даты"
         }
        },
        "yaxis": {
         "dtick": 0.05,
         "tick0": 0,
         "tickfont": {
          "color": "rgb(82, 82, 82)",
          "family": "Times New Roman",
          "size": 12
         },
         "tickmode": "linear",
         "ticks": "outside",
         "title": {
          "text": "Тональные оценки"
         }
        }
       }
      }
     },
     "metadata": {},
     "output_type": "display_data"
    }
   ],
   "source": [
    "import plotly.graph_objects as go\n",
    "\n",
    "fig = go.Figure()\n",
    "fig.add_trace(go.Scatter(x=df_group[\"review_date\"], y=df_group[\"positive\"], name=\"Позитивная тональность\",\n",
    "                         line_shape='spline'))\n",
    "fig.add_trace(go.Scatter(x=df_group[\"review_date\"], y=df_group[\"negative\"], name=\"Негативная тональность\",\n",
    "                         line_shape='spline'))\n",
    "\n",
    "fig.add_trace(go.Scatter(x=df_group[\"review_date\"], y=df_group[\"neutral\"], name=\"Нейтральная тональность\",\n",
    "                         line_shape='spline'))\n",
    "\n",
    "\n",
    "fig.update_layout(title=\"График зависимости тональных оценок от месяца \\\"Ростикс\\\"\",\n",
    "                  xaxis_title='Даты', yaxis_title='Тональные оценки',\n",
    "                  xaxis=dict(\n",
    "                      showticklabels=True,\n",
    "                      linecolor='rgb(204, 204, 204)',\n",
    "                      linewidth=2,\n",
    "                      tickmode='linear',\n",
    "                      ticks='outside',\n",
    "                      dtick=\"M1\",\n",
    "                      ticklabelmode=\"period\",\n",
    "                      tickfont=dict(\n",
    "                          family='Times New Roman',\n",
    "                          size=12,\n",
    "                          color='rgb(82, 82, 82)',\n",
    "                      )),\n",
    "                  yaxis=dict(\n",
    "                      tickmode='linear',\n",
    "                      ticks='outside',\n",
    "                      tick0=0,\n",
    "                      dtick=0.05,\n",
    "                      tickfont=dict(\n",
    "                          family='Times New Roman',\n",
    "                          size=12,\n",
    "                          color='rgb(82, 82, 82)',\n",
    "                      )))\n",
    "fig.show(config=dict({'staticPlot':True}))\n"
   ]
  },
  {
   "cell_type": "code",
   "execution_count": 60,
   "metadata": {},
   "outputs": [
    {
     "data": {
      "application/vnd.plotly.v1+json": {
       "config": {
        "plotlyServerURL": "https://plot.ly",
        "staticPlot": true
       },
       "data": [
        {
         "line": {
          "shape": "spline"
         },
         "name": "Позитивная тональность",
         "type": "scatter",
         "x": [
          "2023-01-02T00:00:00",
          "2023-02-01T00:00:00",
          "2023-03-01T00:00:00",
          "2023-05-03T00:00:00",
          "2023-06-03T00:00:00",
          "2023-07-01T00:00:00"
         ],
         "y": [
          0.27535583824152526,
          0.3423828820424921,
          0.3370356073031119,
          0.25025586072690503,
          0.2744855770708685,
          0.30552506894748666
         ]
        }
       ],
       "layout": {
        "template": {
         "data": {
          "bar": [
           {
            "error_x": {
             "color": "#2a3f5f"
            },
            "error_y": {
             "color": "#2a3f5f"
            },
            "marker": {
             "line": {
              "color": "#E5ECF6",
              "width": 0.5
             },
             "pattern": {
              "fillmode": "overlay",
              "size": 10,
              "solidity": 0.2
             }
            },
            "type": "bar"
           }
          ],
          "barpolar": [
           {
            "marker": {
             "line": {
              "color": "#E5ECF6",
              "width": 0.5
             },
             "pattern": {
              "fillmode": "overlay",
              "size": 10,
              "solidity": 0.2
             }
            },
            "type": "barpolar"
           }
          ],
          "carpet": [
           {
            "aaxis": {
             "endlinecolor": "#2a3f5f",
             "gridcolor": "white",
             "linecolor": "white",
             "minorgridcolor": "white",
             "startlinecolor": "#2a3f5f"
            },
            "baxis": {
             "endlinecolor": "#2a3f5f",
             "gridcolor": "white",
             "linecolor": "white",
             "minorgridcolor": "white",
             "startlinecolor": "#2a3f5f"
            },
            "type": "carpet"
           }
          ],
          "choropleth": [
           {
            "colorbar": {
             "outlinewidth": 0,
             "ticks": ""
            },
            "type": "choropleth"
           }
          ],
          "contour": [
           {
            "colorbar": {
             "outlinewidth": 0,
             "ticks": ""
            },
            "colorscale": [
             [
              0,
              "#0d0887"
             ],
             [
              0.1111111111111111,
              "#46039f"
             ],
             [
              0.2222222222222222,
              "#7201a8"
             ],
             [
              0.3333333333333333,
              "#9c179e"
             ],
             [
              0.4444444444444444,
              "#bd3786"
             ],
             [
              0.5555555555555556,
              "#d8576b"
             ],
             [
              0.6666666666666666,
              "#ed7953"
             ],
             [
              0.7777777777777778,
              "#fb9f3a"
             ],
             [
              0.8888888888888888,
              "#fdca26"
             ],
             [
              1,
              "#f0f921"
             ]
            ],
            "type": "contour"
           }
          ],
          "contourcarpet": [
           {
            "colorbar": {
             "outlinewidth": 0,
             "ticks": ""
            },
            "type": "contourcarpet"
           }
          ],
          "heatmap": [
           {
            "colorbar": {
             "outlinewidth": 0,
             "ticks": ""
            },
            "colorscale": [
             [
              0,
              "#0d0887"
             ],
             [
              0.1111111111111111,
              "#46039f"
             ],
             [
              0.2222222222222222,
              "#7201a8"
             ],
             [
              0.3333333333333333,
              "#9c179e"
             ],
             [
              0.4444444444444444,
              "#bd3786"
             ],
             [
              0.5555555555555556,
              "#d8576b"
             ],
             [
              0.6666666666666666,
              "#ed7953"
             ],
             [
              0.7777777777777778,
              "#fb9f3a"
             ],
             [
              0.8888888888888888,
              "#fdca26"
             ],
             [
              1,
              "#f0f921"
             ]
            ],
            "type": "heatmap"
           }
          ],
          "heatmapgl": [
           {
            "colorbar": {
             "outlinewidth": 0,
             "ticks": ""
            },
            "colorscale": [
             [
              0,
              "#0d0887"
             ],
             [
              0.1111111111111111,
              "#46039f"
             ],
             [
              0.2222222222222222,
              "#7201a8"
             ],
             [
              0.3333333333333333,
              "#9c179e"
             ],
             [
              0.4444444444444444,
              "#bd3786"
             ],
             [
              0.5555555555555556,
              "#d8576b"
             ],
             [
              0.6666666666666666,
              "#ed7953"
             ],
             [
              0.7777777777777778,
              "#fb9f3a"
             ],
             [
              0.8888888888888888,
              "#fdca26"
             ],
             [
              1,
              "#f0f921"
             ]
            ],
            "type": "heatmapgl"
           }
          ],
          "histogram": [
           {
            "marker": {
             "pattern": {
              "fillmode": "overlay",
              "size": 10,
              "solidity": 0.2
             }
            },
            "type": "histogram"
           }
          ],
          "histogram2d": [
           {
            "colorbar": {
             "outlinewidth": 0,
             "ticks": ""
            },
            "colorscale": [
             [
              0,
              "#0d0887"
             ],
             [
              0.1111111111111111,
              "#46039f"
             ],
             [
              0.2222222222222222,
              "#7201a8"
             ],
             [
              0.3333333333333333,
              "#9c179e"
             ],
             [
              0.4444444444444444,
              "#bd3786"
             ],
             [
              0.5555555555555556,
              "#d8576b"
             ],
             [
              0.6666666666666666,
              "#ed7953"
             ],
             [
              0.7777777777777778,
              "#fb9f3a"
             ],
             [
              0.8888888888888888,
              "#fdca26"
             ],
             [
              1,
              "#f0f921"
             ]
            ],
            "type": "histogram2d"
           }
          ],
          "histogram2dcontour": [
           {
            "colorbar": {
             "outlinewidth": 0,
             "ticks": ""
            },
            "colorscale": [
             [
              0,
              "#0d0887"
             ],
             [
              0.1111111111111111,
              "#46039f"
             ],
             [
              0.2222222222222222,
              "#7201a8"
             ],
             [
              0.3333333333333333,
              "#9c179e"
             ],
             [
              0.4444444444444444,
              "#bd3786"
             ],
             [
              0.5555555555555556,
              "#d8576b"
             ],
             [
              0.6666666666666666,
              "#ed7953"
             ],
             [
              0.7777777777777778,
              "#fb9f3a"
             ],
             [
              0.8888888888888888,
              "#fdca26"
             ],
             [
              1,
              "#f0f921"
             ]
            ],
            "type": "histogram2dcontour"
           }
          ],
          "mesh3d": [
           {
            "colorbar": {
             "outlinewidth": 0,
             "ticks": ""
            },
            "type": "mesh3d"
           }
          ],
          "parcoords": [
           {
            "line": {
             "colorbar": {
              "outlinewidth": 0,
              "ticks": ""
             }
            },
            "type": "parcoords"
           }
          ],
          "pie": [
           {
            "automargin": true,
            "type": "pie"
           }
          ],
          "scatter": [
           {
            "fillpattern": {
             "fillmode": "overlay",
             "size": 10,
             "solidity": 0.2
            },
            "type": "scatter"
           }
          ],
          "scatter3d": [
           {
            "line": {
             "colorbar": {
              "outlinewidth": 0,
              "ticks": ""
             }
            },
            "marker": {
             "colorbar": {
              "outlinewidth": 0,
              "ticks": ""
             }
            },
            "type": "scatter3d"
           }
          ],
          "scattercarpet": [
           {
            "marker": {
             "colorbar": {
              "outlinewidth": 0,
              "ticks": ""
             }
            },
            "type": "scattercarpet"
           }
          ],
          "scattergeo": [
           {
            "marker": {
             "colorbar": {
              "outlinewidth": 0,
              "ticks": ""
             }
            },
            "type": "scattergeo"
           }
          ],
          "scattergl": [
           {
            "marker": {
             "colorbar": {
              "outlinewidth": 0,
              "ticks": ""
             }
            },
            "type": "scattergl"
           }
          ],
          "scattermapbox": [
           {
            "marker": {
             "colorbar": {
              "outlinewidth": 0,
              "ticks": ""
             }
            },
            "type": "scattermapbox"
           }
          ],
          "scatterpolar": [
           {
            "marker": {
             "colorbar": {
              "outlinewidth": 0,
              "ticks": ""
             }
            },
            "type": "scatterpolar"
           }
          ],
          "scatterpolargl": [
           {
            "marker": {
             "colorbar": {
              "outlinewidth": 0,
              "ticks": ""
             }
            },
            "type": "scatterpolargl"
           }
          ],
          "scatterternary": [
           {
            "marker": {
             "colorbar": {
              "outlinewidth": 0,
              "ticks": ""
             }
            },
            "type": "scatterternary"
           }
          ],
          "surface": [
           {
            "colorbar": {
             "outlinewidth": 0,
             "ticks": ""
            },
            "colorscale": [
             [
              0,
              "#0d0887"
             ],
             [
              0.1111111111111111,
              "#46039f"
             ],
             [
              0.2222222222222222,
              "#7201a8"
             ],
             [
              0.3333333333333333,
              "#9c179e"
             ],
             [
              0.4444444444444444,
              "#bd3786"
             ],
             [
              0.5555555555555556,
              "#d8576b"
             ],
             [
              0.6666666666666666,
              "#ed7953"
             ],
             [
              0.7777777777777778,
              "#fb9f3a"
             ],
             [
              0.8888888888888888,
              "#fdca26"
             ],
             [
              1,
              "#f0f921"
             ]
            ],
            "type": "surface"
           }
          ],
          "table": [
           {
            "cells": {
             "fill": {
              "color": "#EBF0F8"
             },
             "line": {
              "color": "white"
             }
            },
            "header": {
             "fill": {
              "color": "#C8D4E3"
             },
             "line": {
              "color": "white"
             }
            },
            "type": "table"
           }
          ]
         },
         "layout": {
          "annotationdefaults": {
           "arrowcolor": "#2a3f5f",
           "arrowhead": 0,
           "arrowwidth": 1
          },
          "autotypenumbers": "strict",
          "coloraxis": {
           "colorbar": {
            "outlinewidth": 0,
            "ticks": ""
           }
          },
          "colorscale": {
           "diverging": [
            [
             0,
             "#8e0152"
            ],
            [
             0.1,
             "#c51b7d"
            ],
            [
             0.2,
             "#de77ae"
            ],
            [
             0.3,
             "#f1b6da"
            ],
            [
             0.4,
             "#fde0ef"
            ],
            [
             0.5,
             "#f7f7f7"
            ],
            [
             0.6,
             "#e6f5d0"
            ],
            [
             0.7,
             "#b8e186"
            ],
            [
             0.8,
             "#7fbc41"
            ],
            [
             0.9,
             "#4d9221"
            ],
            [
             1,
             "#276419"
            ]
           ],
           "sequential": [
            [
             0,
             "#0d0887"
            ],
            [
             0.1111111111111111,
             "#46039f"
            ],
            [
             0.2222222222222222,
             "#7201a8"
            ],
            [
             0.3333333333333333,
             "#9c179e"
            ],
            [
             0.4444444444444444,
             "#bd3786"
            ],
            [
             0.5555555555555556,
             "#d8576b"
            ],
            [
             0.6666666666666666,
             "#ed7953"
            ],
            [
             0.7777777777777778,
             "#fb9f3a"
            ],
            [
             0.8888888888888888,
             "#fdca26"
            ],
            [
             1,
             "#f0f921"
            ]
           ],
           "sequentialminus": [
            [
             0,
             "#0d0887"
            ],
            [
             0.1111111111111111,
             "#46039f"
            ],
            [
             0.2222222222222222,
             "#7201a8"
            ],
            [
             0.3333333333333333,
             "#9c179e"
            ],
            [
             0.4444444444444444,
             "#bd3786"
            ],
            [
             0.5555555555555556,
             "#d8576b"
            ],
            [
             0.6666666666666666,
             "#ed7953"
            ],
            [
             0.7777777777777778,
             "#fb9f3a"
            ],
            [
             0.8888888888888888,
             "#fdca26"
            ],
            [
             1,
             "#f0f921"
            ]
           ]
          },
          "colorway": [
           "#636efa",
           "#EF553B",
           "#00cc96",
           "#ab63fa",
           "#FFA15A",
           "#19d3f3",
           "#FF6692",
           "#B6E880",
           "#FF97FF",
           "#FECB52"
          ],
          "font": {
           "color": "#2a3f5f"
          },
          "geo": {
           "bgcolor": "white",
           "lakecolor": "white",
           "landcolor": "#E5ECF6",
           "showlakes": true,
           "showland": true,
           "subunitcolor": "white"
          },
          "hoverlabel": {
           "align": "left"
          },
          "hovermode": "closest",
          "mapbox": {
           "style": "light"
          },
          "paper_bgcolor": "white",
          "plot_bgcolor": "#E5ECF6",
          "polar": {
           "angularaxis": {
            "gridcolor": "white",
            "linecolor": "white",
            "ticks": ""
           },
           "bgcolor": "#E5ECF6",
           "radialaxis": {
            "gridcolor": "white",
            "linecolor": "white",
            "ticks": ""
           }
          },
          "scene": {
           "xaxis": {
            "backgroundcolor": "#E5ECF6",
            "gridcolor": "white",
            "gridwidth": 2,
            "linecolor": "white",
            "showbackground": true,
            "ticks": "",
            "zerolinecolor": "white"
           },
           "yaxis": {
            "backgroundcolor": "#E5ECF6",
            "gridcolor": "white",
            "gridwidth": 2,
            "linecolor": "white",
            "showbackground": true,
            "ticks": "",
            "zerolinecolor": "white"
           },
           "zaxis": {
            "backgroundcolor": "#E5ECF6",
            "gridcolor": "white",
            "gridwidth": 2,
            "linecolor": "white",
            "showbackground": true,
            "ticks": "",
            "zerolinecolor": "white"
           }
          },
          "shapedefaults": {
           "line": {
            "color": "#2a3f5f"
           }
          },
          "ternary": {
           "aaxis": {
            "gridcolor": "white",
            "linecolor": "white",
            "ticks": ""
           },
           "baxis": {
            "gridcolor": "white",
            "linecolor": "white",
            "ticks": ""
           },
           "bgcolor": "#E5ECF6",
           "caxis": {
            "gridcolor": "white",
            "linecolor": "white",
            "ticks": ""
           }
          },
          "title": {
           "x": 0.05
          },
          "xaxis": {
           "automargin": true,
           "gridcolor": "white",
           "linecolor": "white",
           "ticks": "",
           "title": {
            "standoff": 15
           },
           "zerolinecolor": "white",
           "zerolinewidth": 2
          },
          "yaxis": {
           "automargin": true,
           "gridcolor": "white",
           "linecolor": "white",
           "ticks": "",
           "title": {
            "standoff": 15
           },
           "zerolinecolor": "white",
           "zerolinewidth": 2
          }
         }
        },
        "title": {
         "text": "График зависимости имиджа от месяца \"Ростикс\""
        },
        "xaxis": {
         "dtick": "M1",
         "linecolor": "rgb(204, 204, 204)",
         "linewidth": 2,
         "showticklabels": true,
         "tickfont": {
          "color": "rgb(82, 82, 82)",
          "family": "Times New Roman",
          "size": 12
         },
         "ticklabelmode": "period",
         "tickmode": "linear",
         "ticks": "outside",
         "title": {
          "text": "Даты"
         }
        },
        "yaxis": {
         "dtick": 0.05,
         "tick0": 0,
         "tickfont": {
          "color": "rgb(82, 82, 82)",
          "family": "Times New Roman",
          "size": 12
         },
         "tickmode": "linear",
         "ticks": "outside",
         "title": {
          "text": "Тональные оценки"
         }
        }
       }
      }
     },
     "metadata": {},
     "output_type": "display_data"
    }
   ],
   "source": [
    "w1 = w2 = w3 = 1\n",
    "w2 = 0\n",
    "df_group['grade'] = np.sqrt(w1*(df_group['positive']**2)+w2*(df_group['neutral']**2)+w3 *\n",
    "                      (df_group['negative']**2))\n",
    "fig = go.Figure()\n",
    "fig.add_trace(go.Scatter(x=df_group[\"review_date\"], y=df_group[\"grade\"], name=\"Позитивная тональность\",\n",
    "                         line_shape='spline'))\n",
    "\n",
    "\n",
    "fig.update_layout(title=\"График зависимости имиджа от месяца \\\"Ростикс\\\"\",\n",
    "                  xaxis_title='Даты', yaxis_title='Тональные оценки',\n",
    "                  xaxis=dict(\n",
    "                      showticklabels=True,\n",
    "                      linecolor='rgb(204, 204, 204)',\n",
    "                      linewidth=2,\n",
    "                      tickmode='linear',\n",
    "                      ticks='outside',\n",
    "                      dtick=\"M1\",\n",
    "                      ticklabelmode=\"period\",\n",
    "                      tickfont=dict(\n",
    "                          family='Times New Roman',\n",
    "                          size=12,\n",
    "                          color='rgb(82, 82, 82)',\n",
    "                      )),\n",
    "                  yaxis=dict(\n",
    "                      tickmode='linear',\n",
    "                      ticks='outside',\n",
    "                      tick0=0,\n",
    "                      dtick=0.05,\n",
    "                      tickfont=dict(\n",
    "                          family='Times New Roman',\n",
    "                          size=12,\n",
    "                          color='rgb(82, 82, 82)',\n",
    "                      )))\n",
    "fig.show(config=dict({'staticPlot':True}))"
   ]
  },
  {
   "cell_type": "code",
   "execution_count": 61,
   "metadata": {},
   "outputs": [],
   "source": [
    "df = sport_reviews.copy()\n",
    "df[\"month\"] = df[\"review_date\"].dt.month\n",
    "df_group = df.groupby([\"month\"]).agg(\n",
    "    {\"positive\": \"mean\", \"negative\": \"mean\", \"neutral\": \"mean\",\"review_date\": \"first\"}).reset_index()\n",
    "df_group.sort_values(\"review_date\",inplace=True)"
   ]
  },
  {
   "cell_type": "code",
   "execution_count": 62,
   "metadata": {},
   "outputs": [
    {
     "data": {
      "image/jpeg": "[encoded data removed]"
     },
     "metadata": {},
     "output_type": "display_data"
    }
   ],
   "source": [
    "import plotly.graph_objects as go\n",
    "\n",
    "fig = go.Figure()\n",
    "fig.add_trace(go.Scatter(x=df_group[\"review_date\"], y=df_group[\"positive\"], name=\"Позитивная тональность\",\n",
    "                         line_shape='spline'))\n",
    "fig.add_trace(go.Scatter(x=df_group[\"review_date\"], y=df_group[\"negative\"], name=\"Негативная тональность\",\n",
    "                         line_shape='spline'))\n",
    "\n",
    "fig.add_trace(go.Scatter(x=df_group[\"review_date\"], y=df_group[\"neutral\"], name=\"Нейтральная тональность\",\n",
    "                         line_shape='spline'))\n",
    "\n",
    "\n",
    "fig.update_layout(title=\"График зависимости тональных оценок от месяца \\\"Спортмастер\\\"\",\n",
    "                  xaxis_title='Даты', yaxis_title='Тональные оценки',\n",
    "                  xaxis=dict(\n",
    "                      showticklabels=True,\n",
    "                      linecolor='rgb(204, 204, 204)',\n",
    "                      linewidth=2,\n",
    "                      tickmode='linear',\n",
    "                      ticks='outside',\n",
    "                      dtick=\"M1\",\n",
    "                      ticklabelmode=\"period\",\n",
    "                      tickfont=dict(\n",
    "                          family='Times New Roman',\n",
    "                          size=12,\n",
    "                          color='rgb(82, 82, 82)',\n",
    "                      )),\n",
    "                  yaxis=dict(\n",
    "                      tickmode='linear',\n",
    "                      ticks='outside',\n",
    "                      tick0=0,\n",
    "                      dtick=0.05,\n",
    "                      tickfont=dict(\n",
    "                          family='Times New Roman',\n",
    "                          size=12,\n",
    "                          color='rgb(82, 82, 82)',\n",
    "                      )))\n",
    "fig.show(\"jpeg\",width=1920,height=1080)\n"
   ]
  },
  {
   "cell_type": "code",
   "execution_count": 63,
   "metadata": {},
   "outputs": [
    {
     "data": {
      "application/vnd.plotly.v1+json": {
       "config": {
        "plotlyServerURL": "https://plot.ly",
        "staticPlot": true
       },
       "data": [
        {
         "line": {
          "shape": "spline"
         },
         "name": "Позитивная тональность",
         "type": "scatter",
         "x": [
          "2013-08-01T00:00:00",
          "2014-10-15T00:00:00",
          "2015-06-12T00:00:00",
          "2015-11-14T00:00:00",
          "2018-07-11T00:00:00",
          "2020-05-27T00:00:00",
          "2022-01-06T00:00:00"
         ],
         "y": [
          0.2588032275591545,
          0.27865481376647944,
          0.20548754754525578,
          0.2628518640995025,
          0.4301573634147644,
          0.2227101624011993,
          0.2148071080446243
         ]
        }
       ],
       "layout": {
        "template": {
         "data": {
          "bar": [
           {
            "error_x": {
             "color": "#2a3f5f"
            },
            "error_y": {
             "color": "#2a3f5f"
            },
            "marker": {
             "line": {
              "color": "#E5ECF6",
              "width": 0.5
             },
             "pattern": {
              "fillmode": "overlay",
              "size": 10,
              "solidity": 0.2
             }
            },
            "type": "bar"
           }
          ],
          "barpolar": [
           {
            "marker": {
             "line": {
              "color": "#E5ECF6",
              "width": 0.5
             },
             "pattern": {
              "fillmode": "overlay",
              "size": 10,
              "solidity": 0.2
             }
            },
            "type": "barpolar"
           }
          ],
          "carpet": [
           {
            "aaxis": {
             "endlinecolor": "#2a3f5f",
             "gridcolor": "white",
             "linecolor": "white",
             "minorgridcolor": "white",
             "startlinecolor": "#2a3f5f"
            },
            "baxis": {
             "endlinecolor": "#2a3f5f",
             "gridcolor": "white",
             "linecolor": "white",
             "minorgridcolor": "white",
             "startlinecolor": "#2a3f5f"
            },
            "type": "carpet"
           }
          ],
          "choropleth": [
           {
            "colorbar": {
             "outlinewidth": 0,
             "ticks": ""
            },
            "type": "choropleth"
           }
          ],
          "contour": [
           {
            "colorbar": {
             "outlinewidth": 0,
             "ticks": ""
            },
            "colorscale": [
             [
              0,
              "#0d0887"
             ],
             [
              0.1111111111111111,
              "#46039f"
             ],
             [
              0.2222222222222222,
              "#7201a8"
             ],
             [
              0.3333333333333333,
              "#9c179e"
             ],
             [
              0.4444444444444444,
              "#bd3786"
             ],
             [
              0.5555555555555556,
              "#d8576b"
             ],
             [
              0.6666666666666666,
              "#ed7953"
             ],
             [
              0.7777777777777778,
              "#fb9f3a"
             ],
             [
              0.8888888888888888,
              "#fdca26"
             ],
             [
              1,
              "#f0f921"
             ]
            ],
            "type": "contour"
           }
          ],
          "contourcarpet": [
           {
            "colorbar": {
             "outlinewidth": 0,
             "ticks": ""
            },
            "type": "contourcarpet"
           }
          ],
          "heatmap": [
           {
            "colorbar": {
             "outlinewidth": 0,
             "ticks": ""
            },
            "colorscale": [
             [
              0,
              "#0d0887"
             ],
             [
              0.1111111111111111,
              "#46039f"
             ],
             [
              0.2222222222222222,
              "#7201a8"
             ],
             [
              0.3333333333333333,
              "#9c179e"
             ],
             [
              0.4444444444444444,
              "#bd3786"
             ],
             [
              0.5555555555555556,
              "#d8576b"
             ],
             [
              0.6666666666666666,
              "#ed7953"
             ],
             [
              0.7777777777777778,
              "#fb9f3a"
             ],
             [
              0.8888888888888888,
              "#fdca26"
             ],
             [
              1,
              "#f0f921"
             ]
            ],
            "type": "heatmap"
           }
          ],
          "heatmapgl": [
           {
            "colorbar": {
             "outlinewidth": 0,
             "ticks": ""
            },
            "colorscale": [
             [
              0,
              "#0d0887"
             ],
             [
              0.1111111111111111,
              "#46039f"
             ],
             [
              0.2222222222222222,
              "#7201a8"
             ],
             [
              0.3333333333333333,
              "#9c179e"
             ],
             [
              0.4444444444444444,
              "#bd3786"
             ],
             [
              0.5555555555555556,
              "#d8576b"
             ],
             [
              0.6666666666666666,
              "#ed7953"
             ],
             [
              0.7777777777777778,
              "#fb9f3a"
             ],
             [
              0.8888888888888888,
              "#fdca26"
             ],
             [
              1,
              "#f0f921"
             ]
            ],
            "type": "heatmapgl"
           }
          ],
          "histogram": [
           {
            "marker": {
             "pattern": {
              "fillmode": "overlay",
              "size": 10,
              "solidity": 0.2
             }
            },
            "type": "histogram"
           }
          ],
          "histogram2d": [
           {
            "colorbar": {
             "outlinewidth": 0,
             "ticks": ""
            },
            "colorscale": [
             [
              0,
              "#0d0887"
             ],
             [
              0.1111111111111111,
              "#46039f"
             ],
             [
              0.2222222222222222,
              "#7201a8"
             ],
             [
              0.3333333333333333,
              "#9c179e"
             ],
             [
              0.4444444444444444,
              "#bd3786"
             ],
             [
              0.5555555555555556,
              "#d8576b"
             ],
             [
              0.6666666666666666,
              "#ed7953"
             ],
             [
              0.7777777777777778,
              "#fb9f3a"
             ],
             [
              0.8888888888888888,
              "#fdca26"
             ],
             [
              1,
              "#f0f921"
             ]
            ],
            "type": "histogram2d"
           }
          ],
          "histogram2dcontour": [
           {
            "colorbar": {
             "outlinewidth": 0,
             "ticks": ""
            },
            "colorscale": [
             [
              0,
              "#0d0887"
             ],
             [
              0.1111111111111111,
              "#46039f"
             ],
             [
              0.2222222222222222,
              "#7201a8"
             ],
             [
              0.3333333333333333,
              "#9c179e"
             ],
             [
              0.4444444444444444,
              "#bd3786"
             ],
             [
              0.5555555555555556,
              "#d8576b"
             ],
             [
              0.6666666666666666,
              "#ed7953"
             ],
             [
              0.7777777777777778,
              "#fb9f3a"
             ],
             [
              0.8888888888888888,
              "#fdca26"
             ],
             [
              1,
              "#f0f921"
             ]
            ],
            "type": "histogram2dcontour"
           }
          ],
          "mesh3d": [
           {
            "colorbar": {
             "outlinewidth": 0,
             "ticks": ""
            },
            "type": "mesh3d"
           }
          ],
          "parcoords": [
           {
            "line": {
             "colorbar": {
              "outlinewidth": 0,
              "ticks": ""
             }
            },
            "type": "parcoords"
           }
          ],
          "pie": [
           {
            "automargin": true,
            "type": "pie"
           }
          ],
          "scatter": [
           {
            "fillpattern": {
             "fillmode": "overlay",
             "size": 10,
             "solidity": 0.2
            },
            "type": "scatter"
           }
          ],
          "scatter3d": [
           {
            "line": {
             "colorbar": {
              "outlinewidth": 0,
              "ticks": ""
             }
            },
            "marker": {
             "colorbar": {
              "outlinewidth": 0,
              "ticks": ""
             }
            },
            "type": "scatter3d"
           }
          ],
          "scattercarpet": [
           {
            "marker": {
             "colorbar": {
              "outlinewidth": 0,
              "ticks": ""
             }
            },
            "type": "scattercarpet"
           }
          ],
          "scattergeo": [
           {
            "marker": {
             "colorbar": {
              "outlinewidth": 0,
              "ticks": ""
             }
            },
            "type": "scattergeo"
           }
          ],
          "scattergl": [
           {
            "marker": {
             "colorbar": {
              "outlinewidth": 0,
              "ticks": ""
             }
            },
            "type": "scattergl"
           }
          ],
          "scattermapbox": [
           {
            "marker": {
             "colorbar": {
              "outlinewidth": 0,
              "ticks": ""
             }
            },
            "type": "scattermapbox"
           }
          ],
          "scatterpolar": [
           {
            "marker": {
             "colorbar": {
              "outlinewidth": 0,
              "ticks": ""
             }
            },
            "type": "scatterpolar"
           }
          ],
          "scatterpolargl": [
           {
            "marker": {
             "colorbar": {
              "outlinewidth": 0,
              "ticks": ""
             }
            },
            "type": "scatterpolargl"
           }
          ],
          "scatterternary": [
           {
            "marker": {
             "colorbar": {
              "outlinewidth": 0,
              "ticks": ""
             }
            },
            "type": "scatterternary"
           }
          ],
          "surface": [
           {
            "colorbar": {
             "outlinewidth": 0,
             "ticks": ""
            },
            "colorscale": [
             [
              0,
              "#0d0887"
             ],
             [
              0.1111111111111111,
              "#46039f"
             ],
             [
              0.2222222222222222,
              "#7201a8"
             ],
             [
              0.3333333333333333,
              "#9c179e"
             ],
             [
              0.4444444444444444,
              "#bd3786"
             ],
             [
              0.5555555555555556,
              "#d8576b"
             ],
             [
              0.6666666666666666,
              "#ed7953"
             ],
             [
              0.7777777777777778,
              "#fb9f3a"
             ],
             [
              0.8888888888888888,
              "#fdca26"
             ],
             [
              1,
              "#f0f921"
             ]
            ],
            "type": "surface"
           }
          ],
          "table": [
           {
            "cells": {
             "fill": {
              "color": "#EBF0F8"
             },
             "line": {
              "color": "white"
             }
            },
            "header": {
             "fill": {
              "color": "#C8D4E3"
             },
             "line": {
              "color": "white"
             }
            },
            "type": "table"
           }
          ]
         },
         "layout": {
          "annotationdefaults": {
           "arrowcolor": "#2a3f5f",
           "arrowhead": 0,
           "arrowwidth": 1
          },
          "autotypenumbers": "strict",
          "coloraxis": {
           "colorbar": {
            "outlinewidth": 0,
            "ticks": ""
           }
          },
          "colorscale": {
           "diverging": [
            [
             0,
             "#8e0152"
            ],
            [
             0.1,
             "#c51b7d"
            ],
            [
             0.2,
             "#de77ae"
            ],
            [
             0.3,
             "#f1b6da"
            ],
            [
             0.4,
             "#fde0ef"
            ],
            [
             0.5,
             "#f7f7f7"
            ],
            [
             0.6,
             "#e6f5d0"
            ],
            [
             0.7,
             "#b8e186"
            ],
            [
             0.8,
             "#7fbc41"
            ],
            [
             0.9,
             "#4d9221"
            ],
            [
             1,
             "#276419"
            ]
           ],
           "sequential": [
            [
             0,
             "#0d0887"
            ],
            [
             0.1111111111111111,
             "#46039f"
            ],
            [
             0.2222222222222222,
             "#7201a8"
            ],
            [
             0.3333333333333333,
             "#9c179e"
            ],
            [
             0.4444444444444444,
             "#bd3786"
            ],
            [
             0.5555555555555556,
             "#d8576b"
            ],
            [
             0.6666666666666666,
             "#ed7953"
            ],
            [
             0.7777777777777778,
             "#fb9f3a"
            ],
            [
             0.8888888888888888,
             "#fdca26"
            ],
            [
             1,
             "#f0f921"
            ]
           ],
           "sequentialminus": [
            [
             0,
             "#0d0887"
            ],
            [
             0.1111111111111111,
             "#46039f"
            ],
            [
             0.2222222222222222,
             "#7201a8"
            ],
            [
             0.3333333333333333,
             "#9c179e"
            ],
            [
             0.4444444444444444,
             "#bd3786"
            ],
            [
             0.5555555555555556,
             "#d8576b"
            ],
            [
             0.6666666666666666,
             "#ed7953"
            ],
            [
             0.7777777777777778,
             "#fb9f3a"
            ],
            [
             0.8888888888888888,
             "#fdca26"
            ],
            [
             1,
             "#f0f921"
            ]
           ]
          },
          "colorway": [
           "#636efa",
           "#EF553B",
           "#00cc96",
           "#ab63fa",
           "#FFA15A",
           "#19d3f3",
           "#FF6692",
           "#B6E880",
           "#FF97FF",
           "#FECB52"
          ],
          "font": {
           "color": "#2a3f5f"
          },
          "geo": {
           "bgcolor": "white",
           "lakecolor": "white",
           "landcolor": "#E5ECF6",
           "showlakes": true,
           "showland": true,
           "subunitcolor": "white"
          },
          "hoverlabel": {
           "align": "left"
          },
          "hovermode": "closest",
          "mapbox": {
           "style": "light"
          },
          "paper_bgcolor": "white",
          "plot_bgcolor": "#E5ECF6",
          "polar": {
           "angularaxis": {
            "gridcolor": "white",
            "linecolor": "white",
            "ticks": ""
           },
           "bgcolor": "#E5ECF6",
           "radialaxis": {
            "gridcolor": "white",
            "linecolor": "white",
            "ticks": ""
           }
          },
          "scene": {
           "xaxis": {
            "backgroundcolor": "#E5ECF6",
            "gridcolor": "white",
            "gridwidth": 2,
            "linecolor": "white",
            "showbackground": true,
            "ticks": "",
            "zerolinecolor": "white"
           },
           "yaxis": {
            "backgroundcolor": "#E5ECF6",
            "gridcolor": "white",
            "gridwidth": 2,
            "linecolor": "white",
            "showbackground": true,
            "ticks": "",
            "zerolinecolor": "white"
           },
           "zaxis": {
            "backgroundcolor": "#E5ECF6",
            "gridcolor": "white",
            "gridwidth": 2,
            "linecolor": "white",
            "showbackground": true,
            "ticks": "",
            "zerolinecolor": "white"
           }
          },
          "shapedefaults": {
           "line": {
            "color": "#2a3f5f"
           }
          },
          "ternary": {
           "aaxis": {
            "gridcolor": "white",
            "linecolor": "white",
            "ticks": ""
           },
           "baxis": {
            "gridcolor": "white",
            "linecolor": "white",
            "ticks": ""
           },
           "bgcolor": "#E5ECF6",
           "caxis": {
            "gridcolor": "white",
            "linecolor": "white",
            "ticks": ""
           }
          },
          "title": {
           "x": 0.05
          },
          "xaxis": {
           "automargin": true,
           "gridcolor": "white",
           "linecolor": "white",
           "ticks": "",
           "title": {
            "standoff": 15
           },
           "zerolinecolor": "white",
           "zerolinewidth": 2
          },
          "yaxis": {
           "automargin": true,
           "gridcolor": "white",
           "linecolor": "white",
           "ticks": "",
           "title": {
            "standoff": 15
           },
           "zerolinecolor": "white",
           "zerolinewidth": 2
          }
         }
        },
        "title": {
         "text": "График зависимости имиджа от месяца \"Спортмастер\""
        },
        "xaxis": {
         "dtick": "M1",
         "linecolor": "rgb(204, 204, 204)",
         "linewidth": 2,
         "showticklabels": true,
         "tickfont": {
          "color": "rgb(82, 82, 82)",
          "family": "Times New Roman",
          "size": 12
         },
         "ticklabelmode": "period",
         "tickmode": "linear",
         "ticks": "outside",
         "title": {
          "text": "Даты"
         }
        },
        "yaxis": {
         "dtick": 0.05,
         "tick0": 0,
         "tickfont": {
          "color": "rgb(82, 82, 82)",
          "family": "Times New Roman",
          "size": 12
         },
         "tickmode": "linear",
         "ticks": "outside",
         "title": {
          "text": "Тональные оценки"
         }
        }
       }
      }
     },
     "metadata": {},
     "output_type": "display_data"
    }
   ],
   "source": [
    "w1 = w2 = w3 = 1\n",
    "w2 = 0\n",
    "df_group['grade'] = np.sqrt(w1*(df_group['positive']**2)+w2*(df_group['neutral']**2)+w3 *\n",
    "                      (df_group['negative']**2))\n",
    "fig = go.Figure()\n",
    "fig.add_trace(go.Scatter(x=df_group[\"review_date\"], y=df_group[\"grade\"], name=\"Позитивная тональность\",\n",
    "                         line_shape='spline'))\n",
    "\n",
    "\n",
    "fig.update_layout(title=\"График зависимости имиджа от месяца \\\"Спортмастер\\\"\",\n",
    "                  xaxis_title='Даты', yaxis_title='Тональные оценки',\n",
    "                  xaxis=dict(\n",
    "                      showticklabels=True,\n",
    "                      linecolor='rgb(204, 204, 204)',\n",
    "                      linewidth=2,\n",
    "                      tickmode='linear',\n",
    "                      ticks='outside',\n",
    "                      dtick=\"M1\",\n",
    "                      ticklabelmode=\"period\",\n",
    "                      tickfont=dict(\n",
    "                          family='Times New Roman',\n",
    "                          size=12,\n",
    "                          color='rgb(82, 82, 82)',\n",
    "                      )),\n",
    "                  yaxis=dict(\n",
    "                      tickmode='linear',\n",
    "                      ticks='outside',\n",
    "                      tick0=0,\n",
    "                      dtick=0.05,\n",
    "                      tickfont=dict(\n",
    "                          family='Times New Roman',\n",
    "                          size=12,\n",
    "                          color='rgb(82, 82, 82)',\n",
    "                      )))\n",
    "fig.show(config=dict({'staticPlot':True}))"
   ]
  },
  {
   "cell_type": "code",
   "execution_count": 64,
   "metadata": {},
   "outputs": [
    {
     "data": {
      "application/vnd.plotly.v1+json": {
       "config": {
        "plotlyServerURL": "https://plot.ly",
        "staticPlot": true
       },
       "data": [
        {
         "domain": {
          "x": [
           0,
           1
          ],
          "y": [
           0,
           1
          ]
         },
         "hole": 0.3,
         "hovertemplate": "label=%{label}<br>value=%{value}<extra></extra>",
         "labels": [
          "neutral",
          "negative",
          "positive"
         ],
         "legendgroup": "",
         "name": "",
         "showlegend": true,
         "type": "pie",
         "values": [
          0.334856526408319,
          0.1836970333423947,
          0.20107533989780865
         ]
        }
       ],
       "layout": {
        "legend": {
         "tracegroupgap": 0
        },
        "template": {
         "data": {
          "bar": [
           {
            "error_x": {
             "color": "#2a3f5f"
            },
            "error_y": {
             "color": "#2a3f5f"
            },
            "marker": {
             "line": {
              "color": "#E5ECF6",
              "width": 0.5
             },
             "pattern": {
              "fillmode": "overlay",
              "size": 10,
              "solidity": 0.2
             }
            },
            "type": "bar"
           }
          ],
          "barpolar": [
           {
            "marker": {
             "line": {
              "color": "#E5ECF6",
              "width": 0.5
             },
             "pattern": {
              "fillmode": "overlay",
              "size": 10,
              "solidity": 0.2
             }
            },
            "type": "barpolar"
           }
          ],
          "carpet": [
           {
            "aaxis": {
             "endlinecolor": "#2a3f5f",
             "gridcolor": "white",
             "linecolor": "white",
             "minorgridcolor": "white",
             "startlinecolor": "#2a3f5f"
            },
            "baxis": {
             "endlinecolor": "#2a3f5f",
             "gridcolor": "white",
             "linecolor": "white",
             "minorgridcolor": "white",
             "startlinecolor": "#2a3f5f"
            },
            "type": "carpet"
           }
          ],
          "choropleth": [
           {
            "colorbar": {
             "outlinewidth": 0,
             "ticks": ""
            },
            "type": "choropleth"
           }
          ],
          "contour": [
           {
            "colorbar": {
             "outlinewidth": 0,
             "ticks": ""
            },
            "colorscale": [
             [
              0,
              "#0d0887"
             ],
             [
              0.1111111111111111,
              "#46039f"
             ],
             [
              0.2222222222222222,
              "#7201a8"
             ],
             [
              0.3333333333333333,
              "#9c179e"
             ],
             [
              0.4444444444444444,
              "#bd3786"
             ],
             [
              0.5555555555555556,
              "#d8576b"
             ],
             [
              0.6666666666666666,
              "#ed7953"
             ],
             [
              0.7777777777777778,
              "#fb9f3a"
             ],
             [
              0.8888888888888888,
              "#fdca26"
             ],
             [
              1,
              "#f0f921"
             ]
            ],
            "type": "contour"
           }
          ],
          "contourcarpet": [
           {
            "colorbar": {
             "outlinewidth": 0,
             "ticks": ""
            },
            "type": "contourcarpet"
           }
          ],
          "heatmap": [
           {
            "colorbar": {
             "outlinewidth": 0,
             "ticks": ""
            },
            "colorscale": [
             [
              0,
              "#0d0887"
             ],
             [
              0.1111111111111111,
              "#46039f"
             ],
             [
              0.2222222222222222,
              "#7201a8"
             ],
             [
              0.3333333333333333,
              "#9c179e"
             ],
             [
              0.4444444444444444,
              "#bd3786"
             ],
             [
              0.5555555555555556,
              "#d8576b"
             ],
             [
              0.6666666666666666,
              "#ed7953"
             ],
             [
              0.7777777777777778,
              "#fb9f3a"
             ],
             [
              0.8888888888888888,
              "#fdca26"
             ],
             [
              1,
              "#f0f921"
             ]
            ],
            "type": "heatmap"
           }
          ],
          "heatmapgl": [
           {
            "colorbar": {
             "outlinewidth": 0,
             "ticks": ""
            },
            "colorscale": [
             [
              0,
              "#0d0887"
             ],
             [
              0.1111111111111111,
              "#46039f"
             ],
             [
              0.2222222222222222,
              "#7201a8"
             ],
             [
              0.3333333333333333,
              "#9c179e"
             ],
             [
              0.4444444444444444,
              "#bd3786"
             ],
             [
              0.5555555555555556,
              "#d8576b"
             ],
             [
              0.6666666666666666,
              "#ed7953"
             ],
             [
              0.7777777777777778,
              "#fb9f3a"
             ],
             [
              0.8888888888888888,
              "#fdca26"
             ],
             [
              1,
              "#f0f921"
             ]
            ],
            "type": "heatmapgl"
           }
          ],
          "histogram": [
           {
            "marker": {
             "pattern": {
              "fillmode": "overlay",
              "size": 10,
              "solidity": 0.2
             }
            },
            "type": "histogram"
           }
          ],
          "histogram2d": [
           {
            "colorbar": {
             "outlinewidth": 0,
             "ticks": ""
            },
            "colorscale": [
             [
              0,
              "#0d0887"
             ],
             [
              0.1111111111111111,
              "#46039f"
             ],
             [
              0.2222222222222222,
              "#7201a8"
             ],
             [
              0.3333333333333333,
              "#9c179e"
             ],
             [
              0.4444444444444444,
              "#bd3786"
             ],
             [
              0.5555555555555556,
              "#d8576b"
             ],
             [
              0.6666666666666666,
              "#ed7953"
             ],
             [
              0.7777777777777778,
              "#fb9f3a"
             ],
             [
              0.8888888888888888,
              "#fdca26"
             ],
             [
              1,
              "#f0f921"
             ]
            ],
            "type": "histogram2d"
           }
          ],
          "histogram2dcontour": [
           {
            "colorbar": {
             "outlinewidth": 0,
             "ticks": ""
            },
            "colorscale": [
             [
              0,
              "#0d0887"
             ],
             [
              0.1111111111111111,
              "#46039f"
             ],
             [
              0.2222222222222222,
              "#7201a8"
             ],
             [
              0.3333333333333333,
              "#9c179e"
             ],
             [
              0.4444444444444444,
              "#bd3786"
             ],
             [
              0.5555555555555556,
              "#d8576b"
             ],
             [
              0.6666666666666666,
              "#ed7953"
             ],
             [
              0.7777777777777778,
              "#fb9f3a"
             ],
             [
              0.8888888888888888,
              "#fdca26"
             ],
             [
              1,
              "#f0f921"
             ]
            ],
            "type": "histogram2dcontour"
           }
          ],
          "mesh3d": [
           {
            "colorbar": {
             "outlinewidth": 0,
             "ticks": ""
            },
            "type": "mesh3d"
           }
          ],
          "parcoords": [
           {
            "line": {
             "colorbar": {
              "outlinewidth": 0,
              "ticks": ""
             }
            },
            "type": "parcoords"
           }
          ],
          "pie": [
           {
            "automargin": true,
            "type": "pie"
           }
          ],
          "scatter": [
           {
            "fillpattern": {
             "fillmode": "overlay",
             "size": 10,
             "solidity": 0.2
            },
            "type": "scatter"
           }
          ],
          "scatter3d": [
           {
            "line": {
             "colorbar": {
              "outlinewidth": 0,
              "ticks": ""
             }
            },
            "marker": {
             "colorbar": {
              "outlinewidth": 0,
              "ticks": ""
             }
            },
            "type": "scatter3d"
           }
          ],
          "scattercarpet": [
           {
            "marker": {
             "colorbar": {
              "outlinewidth": 0,
              "ticks": ""
             }
            },
            "type": "scattercarpet"
           }
          ],
          "scattergeo": [
           {
            "marker": {
             "colorbar": {
              "outlinewidth": 0,
              "ticks": ""
             }
            },
            "type": "scattergeo"
           }
          ],
          "scattergl": [
           {
            "marker": {
             "colorbar": {
              "outlinewidth": 0,
              "ticks": ""
             }
            },
            "type": "scattergl"
           }
          ],
          "scattermapbox": [
           {
            "marker": {
             "colorbar": {
              "outlinewidth": 0,
              "ticks": ""
             }
            },
            "type": "scattermapbox"
           }
          ],
          "scatterpolar": [
           {
            "marker": {
             "colorbar": {
              "outlinewidth": 0,
              "ticks": ""
             }
            },
            "type": "scatterpolar"
           }
          ],
          "scatterpolargl": [
           {
            "marker": {
             "colorbar": {
              "outlinewidth": 0,
              "ticks": ""
             }
            },
            "type": "scatterpolargl"
           }
          ],
          "scatterternary": [
           {
            "marker": {
             "colorbar": {
              "outlinewidth": 0,
              "ticks": ""
             }
            },
            "type": "scatterternary"
           }
          ],
          "surface": [
           {
            "colorbar": {
             "outlinewidth": 0,
             "ticks": ""
            },
            "colorscale": [
             [
              0,
              "#0d0887"
             ],
             [
              0.1111111111111111,
              "#46039f"
             ],
             [
              0.2222222222222222,
              "#7201a8"
             ],
             [
              0.3333333333333333,
              "#9c179e"
             ],
             [
              0.4444444444444444,
              "#bd3786"
             ],
             [
              0.5555555555555556,
              "#d8576b"
             ],
             [
              0.6666666666666666,
              "#ed7953"
             ],
             [
              0.7777777777777778,
              "#fb9f3a"
             ],
             [
              0.8888888888888888,
              "#fdca26"
             ],
             [
              1,
              "#f0f921"
             ]
            ],
            "type": "surface"
           }
          ],
          "table": [
           {
            "cells": {
             "fill": {
              "color": "#EBF0F8"
             },
             "line": {
              "color": "white"
             }
            },
            "header": {
             "fill": {
              "color": "#C8D4E3"
             },
             "line": {
              "color": "white"
             }
            },
            "type": "table"
           }
          ]
         },
         "layout": {
          "annotationdefaults": {
           "arrowcolor": "#2a3f5f",
           "arrowhead": 0,
           "arrowwidth": 1
          },
          "autotypenumbers": "strict",
          "coloraxis": {
           "colorbar": {
            "outlinewidth": 0,
            "ticks": ""
           }
          },
          "colorscale": {
           "diverging": [
            [
             0,
             "#8e0152"
            ],
            [
             0.1,
             "#c51b7d"
            ],
            [
             0.2,
             "#de77ae"
            ],
            [
             0.3,
             "#f1b6da"
            ],
            [
             0.4,
             "#fde0ef"
            ],
            [
             0.5,
             "#f7f7f7"
            ],
            [
             0.6,
             "#e6f5d0"
            ],
            [
             0.7,
             "#b8e186"
            ],
            [
             0.8,
             "#7fbc41"
            ],
            [
             0.9,
             "#4d9221"
            ],
            [
             1,
             "#276419"
            ]
           ],
           "sequential": [
            [
             0,
             "#0d0887"
            ],
            [
             0.1111111111111111,
             "#46039f"
            ],
            [
             0.2222222222222222,
             "#7201a8"
            ],
            [
             0.3333333333333333,
             "#9c179e"
            ],
            [
             0.4444444444444444,
             "#bd3786"
            ],
            [
             0.5555555555555556,
             "#d8576b"
            ],
            [
             0.6666666666666666,
             "#ed7953"
            ],
            [
             0.7777777777777778,
             "#fb9f3a"
            ],
            [
             0.8888888888888888,
             "#fdca26"
            ],
            [
             1,
             "#f0f921"
            ]
           ],
           "sequentialminus": [
            [
             0,
             "#0d0887"
            ],
            [
             0.1111111111111111,
             "#46039f"
            ],
            [
             0.2222222222222222,
             "#7201a8"
            ],
            [
             0.3333333333333333,
             "#9c179e"
            ],
            [
             0.4444444444444444,
             "#bd3786"
            ],
            [
             0.5555555555555556,
             "#d8576b"
            ],
            [
             0.6666666666666666,
             "#ed7953"
            ],
            [
             0.7777777777777778,
             "#fb9f3a"
            ],
            [
             0.8888888888888888,
             "#fdca26"
            ],
            [
             1,
             "#f0f921"
            ]
           ]
          },
          "colorway": [
           "#636efa",
           "#EF553B",
           "#00cc96",
           "#ab63fa",
           "#FFA15A",
           "#19d3f3",
           "#FF6692",
           "#B6E880",
           "#FF97FF",
           "#FECB52"
          ],
          "font": {
           "color": "#2a3f5f"
          },
          "geo": {
           "bgcolor": "white",
           "lakecolor": "white",
           "landcolor": "#E5ECF6",
           "showlakes": true,
           "showland": true,
           "subunitcolor": "white"
          },
          "hoverlabel": {
           "align": "left"
          },
          "hovermode": "closest",
          "mapbox": {
           "style": "light"
          },
          "paper_bgcolor": "white",
          "plot_bgcolor": "#E5ECF6",
          "polar": {
           "angularaxis": {
            "gridcolor": "white",
            "linecolor": "white",
            "ticks": ""
           },
           "bgcolor": "#E5ECF6",
           "radialaxis": {
            "gridcolor": "white",
            "linecolor": "white",
            "ticks": ""
           }
          },
          "scene": {
           "xaxis": {
            "backgroundcolor": "#E5ECF6",
            "gridcolor": "white",
            "gridwidth": 2,
            "linecolor": "white",
            "showbackground": true,
            "ticks": "",
            "zerolinecolor": "white"
           },
           "yaxis": {
            "backgroundcolor": "#E5ECF6",
            "gridcolor": "white",
            "gridwidth": 2,
            "linecolor": "white",
            "showbackground": true,
            "ticks": "",
            "zerolinecolor": "white"
           },
           "zaxis": {
            "backgroundcolor": "#E5ECF6",
            "gridcolor": "white",
            "gridwidth": 2,
            "linecolor": "white",
            "showbackground": true,
            "ticks": "",
            "zerolinecolor": "white"
           }
          },
          "shapedefaults": {
           "line": {
            "color": "#2a3f5f"
           }
          },
          "ternary": {
           "aaxis": {
            "gridcolor": "white",
            "linecolor": "white",
            "ticks": ""
           },
           "baxis": {
            "gridcolor": "white",
            "linecolor": "white",
            "ticks": ""
           },
           "bgcolor": "#E5ECF6",
           "caxis": {
            "gridcolor": "white",
            "linecolor": "white",
            "ticks": ""
           }
          },
          "title": {
           "x": 0.05
          },
          "xaxis": {
           "automargin": true,
           "gridcolor": "white",
           "linecolor": "white",
           "ticks": "",
           "title": {
            "standoff": 15
           },
           "zerolinecolor": "white",
           "zerolinewidth": 2
          },
          "yaxis": {
           "automargin": true,
           "gridcolor": "white",
           "linecolor": "white",
           "ticks": "",
           "title": {
            "standoff": 15
           },
           "zerolinecolor": "white",
           "zerolinewidth": 2
          }
         }
        },
        "title": {
         "text": "Доля тональных оценок \"Ростикс\""
        }
       }
      }
     },
     "metadata": {},
     "output_type": "display_data"
    }
   ],
   "source": [
    "rost_pie_df = rost_reviews.loc[:, [\"neutral\", \"negative\", \"positive\"]].copy()\n",
    "rost_pie_df = rost_pie_df.mean().reset_index()\n",
    "rost_pie_df.columns = [\"names\",\"values\"]\n",
    "\n",
    "fig = px.pie(rost_pie_df, values='values', names='names', title='Доля тональных оценок \\\"Ростикс\\\"', hole=.3)\n",
    "fig.show(config=dict({'staticPlot':True}))\n"
   ]
  },
  {
   "cell_type": "code",
   "execution_count": 65,
   "metadata": {},
   "outputs": [
    {
     "data": {
      "application/vnd.plotly.v1+json": {
       "config": {
        "plotlyServerURL": "https://plot.ly",
        "staticPlot": true
       },
       "data": [
        {
         "domain": {
          "x": [
           0,
           1
          ],
          "y": [
           0,
           1
          ]
         },
         "hole": 0.3,
         "hovertemplate": "label=%{label}<br>value=%{value}<extra></extra>",
         "labels": [
          "neutral",
          "negative",
          "positive"
         ],
         "legendgroup": "",
         "name": "",
         "showlegend": true,
         "type": "pie",
         "values": [
          0.5563619570298628,
          0.218719096346335,
          0.06738473068584096
         ]
        }
       ],
       "layout": {
        "legend": {
         "tracegroupgap": 0
        },
        "template": {
         "data": {
          "bar": [
           {
            "error_x": {
             "color": "#2a3f5f"
            },
            "error_y": {
             "color": "#2a3f5f"
            },
            "marker": {
             "line": {
              "color": "#E5ECF6",
              "width": 0.5
             },
             "pattern": {
              "fillmode": "overlay",
              "size": 10,
              "solidity": 0.2
             }
            },
            "type": "bar"
           }
          ],
          "barpolar": [
           {
            "marker": {
             "line": {
              "color": "#E5ECF6",
              "width": 0.5
             },
             "pattern": {
              "fillmode": "overlay",
              "size": 10,
              "solidity": 0.2
             }
            },
            "type": "barpolar"
           }
          ],
          "carpet": [
           {
            "aaxis": {
             "endlinecolor": "#2a3f5f",
             "gridcolor": "white",
             "linecolor": "white",
             "minorgridcolor": "white",
             "startlinecolor": "#2a3f5f"
            },
            "baxis": {
             "endlinecolor": "#2a3f5f",
             "gridcolor": "white",
             "linecolor": "white",
             "minorgridcolor": "white",
             "startlinecolor": "#2a3f5f"
            },
            "type": "carpet"
           }
          ],
          "choropleth": [
           {
            "colorbar": {
             "outlinewidth": 0,
             "ticks": ""
            },
            "type": "choropleth"
           }
          ],
          "contour": [
           {
            "colorbar": {
             "outlinewidth": 0,
             "ticks": ""
            },
            "colorscale": [
             [
              0,
              "#0d0887"
             ],
             [
              0.1111111111111111,
              "#46039f"
             ],
             [
              0.2222222222222222,
              "#7201a8"
             ],
             [
              0.3333333333333333,
              "#9c179e"
             ],
             [
              0.4444444444444444,
              "#bd3786"
             ],
             [
              0.5555555555555556,
              "#d8576b"
             ],
             [
              0.6666666666666666,
              "#ed7953"
             ],
             [
              0.7777777777777778,
              "#fb9f3a"
             ],
             [
              0.8888888888888888,
              "#fdca26"
             ],
             [
              1,
              "#f0f921"
             ]
            ],
            "type": "contour"
           }
          ],
          "contourcarpet": [
           {
            "colorbar": {
             "outlinewidth": 0,
             "ticks": ""
            },
            "type": "contourcarpet"
           }
          ],
          "heatmap": [
           {
            "colorbar": {
             "outlinewidth": 0,
             "ticks": ""
            },
            "colorscale": [
             [
              0,
              "#0d0887"
             ],
             [
              0.1111111111111111,
              "#46039f"
             ],
             [
              0.2222222222222222,
              "#7201a8"
             ],
             [
              0.3333333333333333,
              "#9c179e"
             ],
             [
              0.4444444444444444,
              "#bd3786"
             ],
             [
              0.5555555555555556,
              "#d8576b"
             ],
             [
              0.6666666666666666,
              "#ed7953"
             ],
             [
              0.7777777777777778,
              "#fb9f3a"
             ],
             [
              0.8888888888888888,
              "#fdca26"
             ],
             [
              1,
              "#f0f921"
             ]
            ],
            "type": "heatmap"
           }
          ],
          "heatmapgl": [
           {
            "colorbar": {
             "outlinewidth": 0,
             "ticks": ""
            },
            "colorscale": [
             [
              0,
              "#0d0887"
             ],
             [
              0.1111111111111111,
              "#46039f"
             ],
             [
              0.2222222222222222,
              "#7201a8"
             ],
             [
              0.3333333333333333,
              "#9c179e"
             ],
             [
              0.4444444444444444,
              "#bd3786"
             ],
             [
              0.5555555555555556,
              "#d8576b"
             ],
             [
              0.6666666666666666,
              "#ed7953"
             ],
             [
              0.7777777777777778,
              "#fb9f3a"
             ],
             [
              0.8888888888888888,
              "#fdca26"
             ],
             [
              1,
              "#f0f921"
             ]
            ],
            "type": "heatmapgl"
           }
          ],
          "histogram": [
           {
            "marker": {
             "pattern": {
              "fillmode": "overlay",
              "size": 10,
              "solidity": 0.2
             }
            },
            "type": "histogram"
           }
          ],
          "histogram2d": [
           {
            "colorbar": {
             "outlinewidth": 0,
             "ticks": ""
            },
            "colorscale": [
             [
              0,
              "#0d0887"
             ],
             [
              0.1111111111111111,
              "#46039f"
             ],
             [
              0.2222222222222222,
              "#7201a8"
             ],
             [
              0.3333333333333333,
              "#9c179e"
             ],
             [
              0.4444444444444444,
              "#bd3786"
             ],
             [
              0.5555555555555556,
              "#d8576b"
             ],
             [
              0.6666666666666666,
              "#ed7953"
             ],
             [
              0.7777777777777778,
              "#fb9f3a"
             ],
             [
              0.8888888888888888,
              "#fdca26"
             ],
             [
              1,
              "#f0f921"
             ]
            ],
            "type": "histogram2d"
           }
          ],
          "histogram2dcontour": [
           {
            "colorbar": {
             "outlinewidth": 0,
             "ticks": ""
            },
            "colorscale": [
             [
              0,
              "#0d0887"
             ],
             [
              0.1111111111111111,
              "#46039f"
             ],
             [
              0.2222222222222222,
              "#7201a8"
             ],
             [
              0.3333333333333333,
              "#9c179e"
             ],
             [
              0.4444444444444444,
              "#bd3786"
             ],
             [
              0.5555555555555556,
              "#d8576b"
             ],
             [
              0.6666666666666666,
              "#ed7953"
             ],
             [
              0.7777777777777778,
              "#fb9f3a"
             ],
             [
              0.8888888888888888,
              "#fdca26"
             ],
             [
              1,
              "#f0f921"
             ]
            ],
            "type": "histogram2dcontour"
           }
          ],
          "mesh3d": [
           {
            "colorbar": {
             "outlinewidth": 0,
             "ticks": ""
            },
            "type": "mesh3d"
           }
          ],
          "parcoords": [
           {
            "line": {
             "colorbar": {
              "outlinewidth": 0,
              "ticks": ""
             }
            },
            "type": "parcoords"
           }
          ],
          "pie": [
           {
            "automargin": true,
            "type": "pie"
           }
          ],
          "scatter": [
           {
            "fillpattern": {
             "fillmode": "overlay",
             "size": 10,
             "solidity": 0.2
            },
            "type": "scatter"
           }
          ],
          "scatter3d": [
           {
            "line": {
             "colorbar": {
              "outlinewidth": 0,
              "ticks": ""
             }
            },
            "marker": {
             "colorbar": {
              "outlinewidth": 0,
              "ticks": ""
             }
            },
            "type": "scatter3d"
           }
          ],
          "scattercarpet": [
           {
            "marker": {
             "colorbar": {
              "outlinewidth": 0,
              "ticks": ""
             }
            },
            "type": "scattercarpet"
           }
          ],
          "scattergeo": [
           {
            "marker": {
             "colorbar": {
              "outlinewidth": 0,
              "ticks": ""
             }
            },
            "type": "scattergeo"
           }
          ],
          "scattergl": [
           {
            "marker": {
             "colorbar": {
              "outlinewidth": 0,
              "ticks": ""
             }
            },
            "type": "scattergl"
           }
          ],
          "scattermapbox": [
           {
            "marker": {
             "colorbar": {
              "outlinewidth": 0,
              "ticks": ""
             }
            },
            "type": "scattermapbox"
           }
          ],
          "scatterpolar": [
           {
            "marker": {
             "colorbar": {
              "outlinewidth": 0,
              "ticks": ""
             }
            },
            "type": "scatterpolar"
           }
          ],
          "scatterpolargl": [
           {
            "marker": {
             "colorbar": {
              "outlinewidth": 0,
              "ticks": ""
             }
            },
            "type": "scatterpolargl"
           }
          ],
          "scatterternary": [
           {
            "marker": {
             "colorbar": {
              "outlinewidth": 0,
              "ticks": ""
             }
            },
            "type": "scatterternary"
           }
          ],
          "surface": [
           {
            "colorbar": {
             "outlinewidth": 0,
             "ticks": ""
            },
            "colorscale": [
             [
              0,
              "#0d0887"
             ],
             [
              0.1111111111111111,
              "#46039f"
             ],
             [
              0.2222222222222222,
              "#7201a8"
             ],
             [
              0.3333333333333333,
              "#9c179e"
             ],
             [
              0.4444444444444444,
              "#bd3786"
             ],
             [
              0.5555555555555556,
              "#d8576b"
             ],
             [
              0.6666666666666666,
              "#ed7953"
             ],
             [
              0.7777777777777778,
              "#fb9f3a"
             ],
             [
              0.8888888888888888,
              "#fdca26"
             ],
             [
              1,
              "#f0f921"
             ]
            ],
            "type": "surface"
           }
          ],
          "table": [
           {
            "cells": {
             "fill": {
              "color": "#EBF0F8"
             },
             "line": {
              "color": "white"
             }
            },
            "header": {
             "fill": {
              "color": "#C8D4E3"
             },
             "line": {
              "color": "white"
             }
            },
            "type": "table"
           }
          ]
         },
         "layout": {
          "annotationdefaults": {
           "arrowcolor": "#2a3f5f",
           "arrowhead": 0,
           "arrowwidth": 1
          },
          "autotypenumbers": "strict",
          "coloraxis": {
           "colorbar": {
            "outlinewidth": 0,
            "ticks": ""
           }
          },
          "colorscale": {
           "diverging": [
            [
             0,
             "#8e0152"
            ],
            [
             0.1,
             "#c51b7d"
            ],
            [
             0.2,
             "#de77ae"
            ],
            [
             0.3,
             "#f1b6da"
            ],
            [
             0.4,
             "#fde0ef"
            ],
            [
             0.5,
             "#f7f7f7"
            ],
            [
             0.6,
             "#e6f5d0"
            ],
            [
             0.7,
             "#b8e186"
            ],
            [
             0.8,
             "#7fbc41"
            ],
            [
             0.9,
             "#4d9221"
            ],
            [
             1,
             "#276419"
            ]
           ],
           "sequential": [
            [
             0,
             "#0d0887"
            ],
            [
             0.1111111111111111,
             "#46039f"
            ],
            [
             0.2222222222222222,
             "#7201a8"
            ],
            [
             0.3333333333333333,
             "#9c179e"
            ],
            [
             0.4444444444444444,
             "#bd3786"
            ],
            [
             0.5555555555555556,
             "#d8576b"
            ],
            [
             0.6666666666666666,
             "#ed7953"
            ],
            [
             0.7777777777777778,
             "#fb9f3a"
            ],
            [
             0.8888888888888888,
             "#fdca26"
            ],
            [
             1,
             "#f0f921"
            ]
           ],
           "sequentialminus": [
            [
             0,
             "#0d0887"
            ],
            [
             0.1111111111111111,
             "#46039f"
            ],
            [
             0.2222222222222222,
             "#7201a8"
            ],
            [
             0.3333333333333333,
             "#9c179e"
            ],
            [
             0.4444444444444444,
             "#bd3786"
            ],
            [
             0.5555555555555556,
             "#d8576b"
            ],
            [
             0.6666666666666666,
             "#ed7953"
            ],
            [
             0.7777777777777778,
             "#fb9f3a"
            ],
            [
             0.8888888888888888,
             "#fdca26"
            ],
            [
             1,
             "#f0f921"
            ]
           ]
          },
          "colorway": [
           "#636efa",
           "#EF553B",
           "#00cc96",
           "#ab63fa",
           "#FFA15A",
           "#19d3f3",
           "#FF6692",
           "#B6E880",
           "#FF97FF",
           "#FECB52"
          ],
          "font": {
           "color": "#2a3f5f"
          },
          "geo": {
           "bgcolor": "white",
           "lakecolor": "white",
           "landcolor": "#E5ECF6",
           "showlakes": true,
           "showland": true,
           "subunitcolor": "white"
          },
          "hoverlabel": {
           "align": "left"
          },
          "hovermode": "closest",
          "mapbox": {
           "style": "light"
          },
          "paper_bgcolor": "white",
          "plot_bgcolor": "#E5ECF6",
          "polar": {
           "angularaxis": {
            "gridcolor": "white",
            "linecolor": "white",
            "ticks": ""
           },
           "bgcolor": "#E5ECF6",
           "radialaxis": {
            "gridcolor": "white",
            "linecolor": "white",
            "ticks": ""
           }
          },
          "scene": {
           "xaxis": {
            "backgroundcolor": "#E5ECF6",
            "gridcolor": "white",
            "gridwidth": 2,
            "linecolor": "white",
            "showbackground": true,
            "ticks": "",
            "zerolinecolor": "white"
           },
           "yaxis": {
            "backgroundcolor": "#E5ECF6",
            "gridcolor": "white",
            "gridwidth": 2,
            "linecolor": "white",
            "showbackground": true,
            "ticks": "",
            "zerolinecolor": "white"
           },
           "zaxis": {
            "backgroundcolor": "#E5ECF6",
            "gridcolor": "white",
            "gridwidth": 2,
            "linecolor": "white",
            "showbackground": true,
            "ticks": "",
            "zerolinecolor": "white"
           }
          },
          "shapedefaults": {
           "line": {
            "color": "#2a3f5f"
           }
          },
          "ternary": {
           "aaxis": {
            "gridcolor": "white",
            "linecolor": "white",
            "ticks": ""
           },
           "baxis": {
            "gridcolor": "white",
            "linecolor": "white",
            "ticks": ""
           },
           "bgcolor": "#E5ECF6",
           "caxis": {
            "gridcolor": "white",
            "linecolor": "white",
            "ticks": ""
           }
          },
          "title": {
           "x": 0.05
          },
          "xaxis": {
           "automargin": true,
           "gridcolor": "white",
           "linecolor": "white",
           "ticks": "",
           "title": {
            "standoff": 15
           },
           "zerolinecolor": "white",
           "zerolinewidth": 2
          },
          "yaxis": {
           "automargin": true,
           "gridcolor": "white",
           "linecolor": "white",
           "ticks": "",
           "title": {
            "standoff": 15
           },
           "zerolinecolor": "white",
           "zerolinewidth": 2
          }
         }
        },
        "title": {
         "text": "Доля тональных оценок \"Ростикс\""
        }
       }
      }
     },
     "metadata": {},
     "output_type": "display_data"
    }
   ],
   "source": [
    "sport_pie_df = sport_reviews.loc[:, [\"neutral\", \"negative\", \"positive\"]].copy()\n",
    "sport_pie_df = sport_pie_df.mean().reset_index()\n",
    "sport_pie_df.columns = [\"names\",\"values\"]\n",
    "\n",
    "fig = px.pie(sport_pie_df, values='values', names='names', title='Доля тональных оценок \\\"Ростикс\\\"', hole=.3)\n",
    "fig.show(config=dict({'staticPlot':True}))\n"
   ]
  }
 ],
 "metadata": {
  "kernelspec": {
   "display_name": ".venv",
   "language": "python",
   "name": "python3"
  },
  "language_info": {
   "codemirror_mode": {
    "name": "ipython",
    "version": 3
   },
   "file_extension": ".py",
   "mimetype": "text/x-python",
   "name": "python",
   "nbconvert_exporter": "python",
   "pygments_lexer": "ipython3",
   "version": "3.10.6"
  },
  "orig_nbformat": 4
 },
 "nbformat": 4,
 "nbformat_minor": 2
}
